{
  "cells": [
    {
      "cell_type": "markdown",
      "metadata": {
        "id": "FfsnOUMTZ23S"
      },
      "source": [
        "# News Headline Modeling"
      ]
    },
    {
      "cell_type": "code",
      "execution_count": 1,
      "metadata": {
        "id": "_q12vFtVZ23W"
      },
      "outputs": [],
      "source": [
        "import pandas as pd\n",
        "import numpy as np \n",
        "import matplotlib.pyplot as plt\n",
        "%matplotlib inline\n",
        "\n",
        "import nltk\n",
        "from nltk.corpus import stopwords, wordnet\n",
        "from imblearn.pipeline import Pipeline as ImPipeline\n",
        "from sklearn.pipeline import Pipeline\n",
        "from sklearn.feature_extraction.text import TfidfVectorizer, CountVectorizer\n",
        "from sklearn.ensemble import RandomForestClassifier\n",
        "from sklearn.dummy import DummyClassifier\n",
        "from sklearn.naive_bayes import MultinomialNB\n",
        "from sklearn.inspection import permutation_importance\n",
        "from sklearn.model_selection import train_test_split, GridSearchCV\n",
        "from sklearn.metrics import accuracy_score, precision_score, recall_score, plot_confusion_matrix\n",
        "import string\n",
        "import re\n",
        "from sklearn.metrics import ConfusionMatrixDisplay"
      ]
    },
    {
      "cell_type": "code",
      "execution_count": 2,
      "metadata": {
        "id": "32F-lUioZ23Y"
      },
      "outputs": [],
      "source": [
        "import warnings\n",
        "warnings.filterwarnings('ignore')"
      ]
    },
    {
      "cell_type": "code",
      "execution_count": 3,
      "metadata": {
        "colab": {
          "base_uri": "https://localhost:8080/"
        },
        "id": "EBIeq4WuagO7",
        "outputId": "6a4c5e1a-fcf9-4de6-8f27-3ef74de409ac"
      },
      "outputs": [],
      "source": [
        "# from google.colab import drive\n",
        "# drive.mount('/content/drive')"
      ]
    },
    {
      "cell_type": "code",
      "execution_count": 4,
      "metadata": {
        "colab": {
          "base_uri": "https://localhost:8080/",
          "height": 206
        },
        "id": "4L498GH9Z23Y",
        "outputId": "1dbeb136-635e-4c26-91d9-fa352fd202e5"
      },
      "outputs": [
        {
          "data": {
            "text/html": [
              "<div>\n",
              "<style scoped>\n",
              "    .dataframe tbody tr th:only-of-type {\n",
              "        vertical-align: middle;\n",
              "    }\n",
              "\n",
              "    .dataframe tbody tr th {\n",
              "        vertical-align: top;\n",
              "    }\n",
              "\n",
              "    .dataframe thead th {\n",
              "        text-align: right;\n",
              "    }\n",
              "</style>\n",
              "<table border=\"1\" class=\"dataframe\">\n",
              "  <thead>\n",
              "    <tr style=\"text-align: right;\">\n",
              "      <th></th>\n",
              "      <th>topic</th>\n",
              "      <th>link</th>\n",
              "      <th>domain</th>\n",
              "      <th>published_date</th>\n",
              "      <th>title</th>\n",
              "      <th>lang</th>\n",
              "    </tr>\n",
              "  </thead>\n",
              "  <tbody>\n",
              "    <tr>\n",
              "      <th>0</th>\n",
              "      <td>SCIENCE</td>\n",
              "      <td>https://www.eurekalert.org/pub_releases/2020-0...</td>\n",
              "      <td>eurekalert.org</td>\n",
              "      <td>2020-08-06 13:59:45</td>\n",
              "      <td>A closer look at water-splitting's solar fuel ...</td>\n",
              "      <td>en</td>\n",
              "    </tr>\n",
              "    <tr>\n",
              "      <th>1</th>\n",
              "      <td>SCIENCE</td>\n",
              "      <td>https://www.pulse.ng/news/world/an-irresistibl...</td>\n",
              "      <td>pulse.ng</td>\n",
              "      <td>2020-08-12 15:14:19</td>\n",
              "      <td>An irresistible scent makes locusts swarm, stu...</td>\n",
              "      <td>en</td>\n",
              "    </tr>\n",
              "    <tr>\n",
              "      <th>2</th>\n",
              "      <td>SCIENCE</td>\n",
              "      <td>https://www.express.co.uk/news/science/1322607...</td>\n",
              "      <td>express.co.uk</td>\n",
              "      <td>2020-08-13 21:01:00</td>\n",
              "      <td>Artificial intelligence warning: AI will know ...</td>\n",
              "      <td>en</td>\n",
              "    </tr>\n",
              "    <tr>\n",
              "      <th>3</th>\n",
              "      <td>SCIENCE</td>\n",
              "      <td>https://www.ndtv.com/world-news/glaciers-could...</td>\n",
              "      <td>ndtv.com</td>\n",
              "      <td>2020-08-03 22:18:26</td>\n",
              "      <td>Glaciers Could Have Sculpted Mars Valleys: Study</td>\n",
              "      <td>en</td>\n",
              "    </tr>\n",
              "    <tr>\n",
              "      <th>4</th>\n",
              "      <td>SCIENCE</td>\n",
              "      <td>https://www.thesun.ie/tech/5742187/perseid-met...</td>\n",
              "      <td>thesun.ie</td>\n",
              "      <td>2020-08-12 19:54:36</td>\n",
              "      <td>Perseid meteor shower 2020: What time and how ...</td>\n",
              "      <td>en</td>\n",
              "    </tr>\n",
              "  </tbody>\n",
              "</table>\n",
              "</div>"
            ],
            "text/plain": [
              "     topic                                               link          domain  \\\n",
              "0  SCIENCE  https://www.eurekalert.org/pub_releases/2020-0...  eurekalert.org   \n",
              "1  SCIENCE  https://www.pulse.ng/news/world/an-irresistibl...        pulse.ng   \n",
              "2  SCIENCE  https://www.express.co.uk/news/science/1322607...   express.co.uk   \n",
              "3  SCIENCE  https://www.ndtv.com/world-news/glaciers-could...        ndtv.com   \n",
              "4  SCIENCE  https://www.thesun.ie/tech/5742187/perseid-met...       thesun.ie   \n",
              "\n",
              "        published_date                                              title lang  \n",
              "0  2020-08-06 13:59:45  A closer look at water-splitting's solar fuel ...   en  \n",
              "1  2020-08-12 15:14:19  An irresistible scent makes locusts swarm, stu...   en  \n",
              "2  2020-08-13 21:01:00  Artificial intelligence warning: AI will know ...   en  \n",
              "3  2020-08-03 22:18:26   Glaciers Could Have Sculpted Mars Valleys: Study   en  \n",
              "4  2020-08-12 19:54:36  Perseid meteor shower 2020: What time and how ...   en  "
            ]
          },
          "execution_count": 4,
          "metadata": {},
          "output_type": "execute_result"
        }
      ],
      "source": [
        "df = pd.read_csv('../data/labeled_newscatcher_dataset.csv', sep=\";\")\n",
        "#corpus = pd.read_csv('/content/drive/MyDrive/labeled_newscatcher_dataset.csv', sep=\";\")\n",
        "df.head()"
      ]
    },
    {
      "cell_type": "code",
      "execution_count": 14,
      "metadata": {},
      "outputs": [
        {
          "data": {
            "text/html": [
              "<div>\n",
              "<style scoped>\n",
              "    .dataframe tbody tr th:only-of-type {\n",
              "        vertical-align: middle;\n",
              "    }\n",
              "\n",
              "    .dataframe tbody tr th {\n",
              "        vertical-align: top;\n",
              "    }\n",
              "\n",
              "    .dataframe thead th {\n",
              "        text-align: right;\n",
              "    }\n",
              "</style>\n",
              "<table border=\"1\" class=\"dataframe\">\n",
              "  <thead>\n",
              "    <tr style=\"text-align: right;\">\n",
              "      <th></th>\n",
              "      <th>topic</th>\n",
              "      <th>link</th>\n",
              "      <th>domain</th>\n",
              "      <th>published_date</th>\n",
              "      <th>title</th>\n",
              "      <th>lang</th>\n",
              "    </tr>\n",
              "  </thead>\n",
              "  <tbody>\n",
              "    <tr>\n",
              "      <th>0</th>\n",
              "      <td>BEAUTY</td>\n",
              "      <td>https://www.politico.com/newsletters/politico-...</td>\n",
              "      <td>politico.com</td>\n",
              "      <td>2022-03-08 15:45:00</td>\n",
              "      <td>Moderna eases up on vaccine patent protections</td>\n",
              "      <td>en</td>\n",
              "    </tr>\n",
              "    <tr>\n",
              "      <th>1</th>\n",
              "      <td>BEAUTY</td>\n",
              "      <td>https://stylecaster.com/queen-elizabeth-lilibet</td>\n",
              "      <td>stylecaster.com</td>\n",
              "      <td>2022-03-08 15:10:14</td>\n",
              "      <td>The Queen ‘Desperately' Wants to Meet Lilibet—...</td>\n",
              "      <td>en</td>\n",
              "    </tr>\n",
              "    <tr>\n",
              "      <th>2</th>\n",
              "      <td>BEAUTY</td>\n",
              "      <td>https://stylecaster.com/kim-kardashian-kanye-p...</td>\n",
              "      <td>stylecaster.com</td>\n",
              "      <td>2022-03-08 14:45:04</td>\n",
              "      <td>Here's What Kim Really Thinks of Kanye's ‘Dist...</td>\n",
              "      <td>en</td>\n",
              "    </tr>\n",
              "    <tr>\n",
              "      <th>3</th>\n",
              "      <td>BEAUTY</td>\n",
              "      <td>https://www.complex.com/style/novesta-ss22</td>\n",
              "      <td>complex.com</td>\n",
              "      <td>2022-03-08 14:44:22</td>\n",
              "      <td>Novesta Unveils Colourful Spring/Summer 2022 F...</td>\n",
              "      <td>en</td>\n",
              "    </tr>\n",
              "    <tr>\n",
              "      <th>4</th>\n",
              "      <td>BEAUTY</td>\n",
              "      <td>https://www.qatarliving.com/forum/fashion/ladi...</td>\n",
              "      <td>qatarliving.com</td>\n",
              "      <td>2022-03-08 13:50:35</td>\n",
              "      <td>Ladies! Dress up with the Perfect Dresses from...</td>\n",
              "      <td>en</td>\n",
              "    </tr>\n",
              "  </tbody>\n",
              "</table>\n",
              "</div>"
            ],
            "text/plain": [
              "    topic                                               link           domain  \\\n",
              "0  BEAUTY  https://www.politico.com/newsletters/politico-...     politico.com   \n",
              "1  BEAUTY    https://stylecaster.com/queen-elizabeth-lilibet  stylecaster.com   \n",
              "2  BEAUTY  https://stylecaster.com/kim-kardashian-kanye-p...  stylecaster.com   \n",
              "3  BEAUTY         https://www.complex.com/style/novesta-ss22      complex.com   \n",
              "4  BEAUTY  https://www.qatarliving.com/forum/fashion/ladi...  qatarliving.com   \n",
              "\n",
              "        published_date                                              title lang  \n",
              "0  2022-03-08 15:45:00     Moderna eases up on vaccine patent protections   en  \n",
              "1  2022-03-08 15:10:14  The Queen ‘Desperately' Wants to Meet Lilibet—...   en  \n",
              "2  2022-03-08 14:45:04  Here's What Kim Really Thinks of Kanye's ‘Dist...   en  \n",
              "3  2022-03-08 14:44:22  Novesta Unveils Colourful Spring/Summer 2022 F...   en  \n",
              "4  2022-03-08 13:50:35  Ladies! Dress up with the Perfect Dresses from...   en  "
            ]
          },
          "execution_count": 14,
          "metadata": {},
          "output_type": "execute_result"
        }
      ],
      "source": [
        "df2 = pd.read_csv('../data/scrape_news_articles.csv', sep=\";\", index_col=[0])\n",
        "#df2 = pd.read_csv('/content/drive/MyDrive/scrape_news_articles.csv', sep=\";\")\n",
        "df2.head()"
      ]
    },
    {
      "cell_type": "code",
      "execution_count": 15,
      "metadata": {},
      "outputs": [
        {
          "data": {
            "text/html": [
              "<div>\n",
              "<style scoped>\n",
              "    .dataframe tbody tr th:only-of-type {\n",
              "        vertical-align: middle;\n",
              "    }\n",
              "\n",
              "    .dataframe tbody tr th {\n",
              "        vertical-align: top;\n",
              "    }\n",
              "\n",
              "    .dataframe thead th {\n",
              "        text-align: right;\n",
              "    }\n",
              "</style>\n",
              "<table border=\"1\" class=\"dataframe\">\n",
              "  <thead>\n",
              "    <tr style=\"text-align: right;\">\n",
              "      <th></th>\n",
              "      <th>topic</th>\n",
              "      <th>link</th>\n",
              "      <th>domain</th>\n",
              "      <th>published_date</th>\n",
              "      <th>title</th>\n",
              "      <th>lang</th>\n",
              "    </tr>\n",
              "  </thead>\n",
              "  <tbody>\n",
              "    <tr>\n",
              "      <th>0</th>\n",
              "      <td>SCIENCE</td>\n",
              "      <td>https://www.eurekalert.org/pub_releases/2020-0...</td>\n",
              "      <td>eurekalert.org</td>\n",
              "      <td>2020-08-06 13:59:45</td>\n",
              "      <td>A closer look at water-splitting's solar fuel ...</td>\n",
              "      <td>en</td>\n",
              "    </tr>\n",
              "    <tr>\n",
              "      <th>1</th>\n",
              "      <td>SCIENCE</td>\n",
              "      <td>https://www.pulse.ng/news/world/an-irresistibl...</td>\n",
              "      <td>pulse.ng</td>\n",
              "      <td>2020-08-12 15:14:19</td>\n",
              "      <td>An irresistible scent makes locusts swarm, stu...</td>\n",
              "      <td>en</td>\n",
              "    </tr>\n",
              "    <tr>\n",
              "      <th>2</th>\n",
              "      <td>SCIENCE</td>\n",
              "      <td>https://www.express.co.uk/news/science/1322607...</td>\n",
              "      <td>express.co.uk</td>\n",
              "      <td>2020-08-13 21:01:00</td>\n",
              "      <td>Artificial intelligence warning: AI will know ...</td>\n",
              "      <td>en</td>\n",
              "    </tr>\n",
              "    <tr>\n",
              "      <th>3</th>\n",
              "      <td>SCIENCE</td>\n",
              "      <td>https://www.ndtv.com/world-news/glaciers-could...</td>\n",
              "      <td>ndtv.com</td>\n",
              "      <td>2020-08-03 22:18:26</td>\n",
              "      <td>Glaciers Could Have Sculpted Mars Valleys: Study</td>\n",
              "      <td>en</td>\n",
              "    </tr>\n",
              "    <tr>\n",
              "      <th>4</th>\n",
              "      <td>SCIENCE</td>\n",
              "      <td>https://www.thesun.ie/tech/5742187/perseid-met...</td>\n",
              "      <td>thesun.ie</td>\n",
              "      <td>2020-08-12 19:54:36</td>\n",
              "      <td>Perseid meteor shower 2020: What time and how ...</td>\n",
              "      <td>en</td>\n",
              "    </tr>\n",
              "  </tbody>\n",
              "</table>\n",
              "</div>"
            ],
            "text/plain": [
              "     topic                                               link          domain  \\\n",
              "0  SCIENCE  https://www.eurekalert.org/pub_releases/2020-0...  eurekalert.org   \n",
              "1  SCIENCE  https://www.pulse.ng/news/world/an-irresistibl...        pulse.ng   \n",
              "2  SCIENCE  https://www.express.co.uk/news/science/1322607...   express.co.uk   \n",
              "3  SCIENCE  https://www.ndtv.com/world-news/glaciers-could...        ndtv.com   \n",
              "4  SCIENCE  https://www.thesun.ie/tech/5742187/perseid-met...       thesun.ie   \n",
              "\n",
              "        published_date                                              title lang  \n",
              "0  2020-08-06 13:59:45  A closer look at water-splitting's solar fuel ...   en  \n",
              "1  2020-08-12 15:14:19  An irresistible scent makes locusts swarm, stu...   en  \n",
              "2  2020-08-13 21:01:00  Artificial intelligence warning: AI will know ...   en  \n",
              "3  2020-08-03 22:18:26   Glaciers Could Have Sculpted Mars Valleys: Study   en  \n",
              "4  2020-08-12 19:54:36  Perseid meteor shower 2020: What time and how ...   en  "
            ]
          },
          "execution_count": 15,
          "metadata": {},
          "output_type": "execute_result"
        }
      ],
      "source": [
        "corpus = pd.concat([df, df2], ignore_index=True)\n",
        "corpus.head()"
      ]
    },
    {
      "cell_type": "markdown",
      "metadata": {
        "id": "OU7B7WokZ23Z"
      },
      "source": [
        "## Vectorization and Modeling"
      ]
    },
    {
      "cell_type": "code",
      "execution_count": 5,
      "metadata": {
        "id": "F_uh6glpZ23a"
      },
      "outputs": [],
      "source": [
        "X = corpus.title\n",
        "y = corpus.topic"
      ]
    },
    {
      "cell_type": "code",
      "execution_count": 6,
      "metadata": {
        "id": "GxbH32ubZ23a"
      },
      "outputs": [],
      "source": [
        "# performing a train-test split first\n",
        "X_train, X_test, y_train, y_test = train_test_split(X, y, random_state=549841, test_size=0.35)"
      ]
    },
    {
      "cell_type": "code",
      "execution_count": 7,
      "metadata": {
        "colab": {
          "base_uri": "https://localhost:8080/"
        },
        "id": "dFojVrzXdjE3",
        "outputId": "cf1c8fc7-c1a2-43a0-dfe9-08420a161115"
      },
      "outputs": [
        {
          "name": "stderr",
          "output_type": "stream",
          "text": [
            "[nltk_data] Downloading package stopwords to\n",
            "[nltk_data]     C:\\Users\\deaud\\AppData\\Roaming\\nltk_data...\n",
            "[nltk_data]   Package stopwords is already up-to-date!\n"
          ]
        },
        {
          "data": {
            "text/plain": [
              "True"
            ]
          },
          "execution_count": 7,
          "metadata": {},
          "output_type": "execute_result"
        }
      ],
      "source": [
        "nltk.download('stopwords')"
      ]
    },
    {
      "cell_type": "code",
      "execution_count": 8,
      "metadata": {
        "id": "UbxdLG2cZ23b"
      },
      "outputs": [],
      "source": [
        "sw = stopwords.words('english')"
      ]
    },
    {
      "cell_type": "markdown",
      "metadata": {
        "id": "ium_PZJqZ23c"
      },
      "source": [
        "### CountVectorizer"
      ]
    },
    {
      "cell_type": "code",
      "execution_count": 13,
      "metadata": {},
      "outputs": [
        {
          "name": "stdout",
          "output_type": "stream",
          "text": [
            "This is the training score: 0.1340254303212028\n",
            "This is the testing score: 0.132436762890389\n",
            "Best parameters: {}\n"
          ]
        }
      ],
      "source": [
        "count_dummy = Pipeline(steps=([(\"vectorize\", CountVectorizer(stop_words= sw)), \n",
        "                            (\"dc\", DummyClassifier())]))\n",
        "\n",
        "parameters = {}\n",
        "\n",
        "count_dc = GridSearchCV(estimator= count_dummy,\n",
        "                 param_grid= parameters,\n",
        "                 cv=5, error_score= 'raise')\n",
        "\n",
        "count_dc.fit(X_train, y_train)\n",
        "\n",
        "print(f'This is the training score: {count_dc.score(X_train, y_train)}')\n",
        "print(f'This is the testing score: {count_dc.score(X_test, y_test)}')\n",
        "print(f'Best parameters: {count_dc.best_params_}')"
      ]
    },
    {
      "cell_type": "code",
      "execution_count": 14,
      "metadata": {},
      "outputs": [
        {
          "data": {
            "text/plain": [
              "GridSearchCV(cv=5, error_score='raise',\n",
              "             estimator=Pipeline(steps=[('vectorize',\n",
              "                                        CountVectorizer(stop_words=['i', 'me',\n",
              "                                                                    'my',\n",
              "                                                                    'myself',\n",
              "                                                                    'we', 'our',\n",
              "                                                                    'ours',\n",
              "                                                                    'ourselves',\n",
              "                                                                    'you',\n",
              "                                                                    \"you're\",\n",
              "                                                                    \"you've\",\n",
              "                                                                    \"you'll\",\n",
              "                                                                    \"you'd\",\n",
              "                                                                    'your',\n",
              "                                                                    'yours',\n",
              "                                                                    'yourself',\n",
              "                                                                    'yourselves',\n",
              "                                                                    'he', 'him',\n",
              "                                                                    'his',\n",
              "                                                                    'himself',\n",
              "                                                                    'she',\n",
              "                                                                    \"she's\",\n",
              "                                                                    'her',\n",
              "                                                                    'hers',\n",
              "                                                                    'herself',\n",
              "                                                                    'it',\n",
              "                                                                    \"it's\",\n",
              "                                                                    'its',\n",
              "                                                                    'itself', ...])),\n",
              "                                       ('mnb', MultinomialNB())]),\n",
              "             param_grid={})"
            ]
          },
          "execution_count": 14,
          "metadata": {},
          "output_type": "execute_result"
        }
      ],
      "source": [
        "count_mnb = Pipeline(steps=([(\"vectorize\", CountVectorizer(stop_words= sw)), \n",
        "                            (\"mnb\", MultinomialNB())]))\n",
        "\n",
        "parameters = {}\n",
        "\n",
        "count_gs = GridSearchCV(estimator= count_mnb,\n",
        "                 param_grid= parameters,\n",
        "                 cv=5, error_score= 'raise')\n",
        "\n",
        "count_gs.fit(X_train, y_train)"
      ]
    },
    {
      "cell_type": "code",
      "execution_count": 15,
      "metadata": {},
      "outputs": [
        {
          "name": "stdout",
          "output_type": "stream",
          "text": [
            "This is the training score: 0.8500063646521364\n",
            "This is the testing score: 0.7919413726983794\n",
            "Best parameters: {}\n"
          ]
        }
      ],
      "source": [
        "print(f'This is the training score: {count_gs.score(X_train, y_train)}')\n",
        "print(f'This is the testing score: {count_gs.score(X_test, y_test)}')\n",
        "print(f'Best parameters: {count_gs.best_params_}')"
      ]
    },
    {
      "cell_type": "code",
      "execution_count": 9,
      "metadata": {
        "id": "79qAesjSZ23d",
        "outputId": "b0a6cd0b-5862-495c-a8f2-d7963c676166"
      },
      "outputs": [
        {
          "data": {
            "text/plain": [
              "GridSearchCV(cv=5, error_score='raise',\n",
              "             estimator=Pipeline(steps=[('vectorize',\n",
              "                                        CountVectorizer(stop_words=['i', 'me',\n",
              "                                                                    'my',\n",
              "                                                                    'myself',\n",
              "                                                                    'we', 'our',\n",
              "                                                                    'ours',\n",
              "                                                                    'ourselves',\n",
              "                                                                    'you',\n",
              "                                                                    \"you're\",\n",
              "                                                                    \"you've\",\n",
              "                                                                    \"you'll\",\n",
              "                                                                    \"you'd\",\n",
              "                                                                    'your',\n",
              "                                                                    'yours',\n",
              "                                                                    'yourself',\n",
              "                                                                    'yourselves',\n",
              "                                                                    'he', 'him',\n",
              "                                                                    'his',\n",
              "                                                                    'himself',\n",
              "                                                                    'she',\n",
              "                                                                    \"she's\",\n",
              "                                                                    'her',\n",
              "                                                                    'hers',\n",
              "                                                                    'herself',\n",
              "                                                                    'it',\n",
              "                                                                    \"it's\",\n",
              "                                                                    'its',\n",
              "                                                                    'itself', ...])),\n",
              "                                       ('mnb', MultinomialNB())]),\n",
              "             param_grid={'mnb__alpha': array([0.  , 0.25, 0.5 , 0.75, 1.  ])})"
            ]
          },
          "execution_count": 9,
          "metadata": {},
          "output_type": "execute_result"
        }
      ],
      "source": [
        "count_mnb = Pipeline(steps=([(\"vectorize\", CountVectorizer(stop_words= sw)), \n",
        "                            (\"mnb\", MultinomialNB())]))\n",
        "\n",
        "parameters = {'mnb__alpha': np.linspace(0, 1.0, 5)}\n",
        "\n",
        "count_gs = GridSearchCV(estimator= count_mnb,\n",
        "                 param_grid= parameters,\n",
        "                 cv=5, error_score= 'raise')\n",
        "\n",
        "count_gs.fit(X_train, y_train)"
      ]
    },
    {
      "cell_type": "code",
      "execution_count": 10,
      "metadata": {
        "id": "WFQCXsFcZ23e",
        "outputId": "7f1647ba-8fcc-405b-b81c-5c6e5c211197"
      },
      "outputs": [
        {
          "name": "stdout",
          "output_type": "stream",
          "text": [
            "This is the training score: 0.8780108340523033\n",
            "This is the testing score: 0.8008720548448951\n",
            "Best parameters: {'mnb__alpha': 0.25}\n"
          ]
        }
      ],
      "source": [
        "print(f'This is the training score: {count_gs.score(X_train, y_train)}')\n",
        "print(f'This is the testing score: {count_gs.score(X_test, y_test)}')\n",
        "print(f'Best parameters: {count_gs.best_params_}')"
      ]
    },
    {
      "cell_type": "code",
      "execution_count": 13,
      "metadata": {},
      "outputs": [],
      "source": [
        "import pickle\n",
        "\n",
        "pickle.dump(count_gs, open('../models/mnb_model.pkl', 'wb'))"
      ]
    },
    {
      "cell_type": "code",
      "execution_count": 16,
      "metadata": {},
      "outputs": [
        {
          "data": {
            "text/plain": [
              "GridSearchCV(cv=5, error_score='raise',\n",
              "             estimator=Pipeline(steps=[('vectorize',\n",
              "                                        CountVectorizer(stop_words=['i', 'me',\n",
              "                                                                    'my',\n",
              "                                                                    'myself',\n",
              "                                                                    'we', 'our',\n",
              "                                                                    'ours',\n",
              "                                                                    'ourselves',\n",
              "                                                                    'you',\n",
              "                                                                    \"you're\",\n",
              "                                                                    \"you've\",\n",
              "                                                                    \"you'll\",\n",
              "                                                                    \"you'd\",\n",
              "                                                                    'your',\n",
              "                                                                    'yours',\n",
              "                                                                    'yourself',\n",
              "                                                                    'yourselves',\n",
              "                                                                    'he', 'him',\n",
              "                                                                    'his',\n",
              "                                                                    'himself',\n",
              "                                                                    'she',\n",
              "                                                                    \"she's\",\n",
              "                                                                    'her',\n",
              "                                                                    'hers',\n",
              "                                                                    'herself',\n",
              "                                                                    'it',\n",
              "                                                                    \"it's\",\n",
              "                                                                    'its',\n",
              "                                                                    'itself', ...])),\n",
              "                                       ('mnb', MultinomialNB())]),\n",
              "             param_grid={'mnb__alpha': array([0.  , 0.25, 0.5 , 0.75, 1.  ])})"
            ]
          },
          "execution_count": 16,
          "metadata": {},
          "output_type": "execute_result"
        }
      ],
      "source": [
        "loaded_model = pickle.load(open('../models/mnb_model.pkl', 'rb'))\n",
        "loaded_model"
      ]
    },
    {
      "cell_type": "code",
      "execution_count": 14,
      "metadata": {},
      "outputs": [
        {
          "data": {
            "text/plain": [
              "array(['SPORTS'], dtype='<U13')"
            ]
          },
          "execution_count": 14,
          "metadata": {},
          "output_type": "execute_result"
        }
      ],
      "source": [
        "test = [\"NBA star's monster triple-double lifts Nuggets to overtime win\"]\n",
        "loaded_model.predict(test)"
      ]
    },
    {
      "cell_type": "code",
      "execution_count": 33,
      "metadata": {},
      "outputs": [
        {
          "data": {
            "image/png": "[encoded data removed]",
            "text/plain": [
              "<Figure size 1080x720 with 2 Axes>"
            ]
          },
          "metadata": {
            "needs_background": "light"
          },
          "output_type": "display_data"
        }
      ],
      "source": [
        "fig, ax = plt.subplots(figsize=(15, 10))\n",
        "plot_confusion_matrix(count_gs, X_test, y_test, ax=ax, cmap=plt.cm.Blues);"
      ]
    },
    {
      "cell_type": "code",
      "execution_count": 34,
      "metadata": {},
      "outputs": [],
      "source": [
        "y_hat = count_gs.predict(X_test)"
      ]
    },
    {
      "cell_type": "code",
      "execution_count": 36,
      "metadata": {},
      "outputs": [
        {
          "data": {
            "text/plain": [
              "0.8018967667805358"
            ]
          },
          "execution_count": 36,
          "metadata": {},
          "output_type": "execute_result"
        }
      ],
      "source": [
        "precision_score(y_test, y_hat, average='weighted')"
      ]
    },
    {
      "cell_type": "code",
      "execution_count": 44,
      "metadata": {},
      "outputs": [
        {
          "name": "stdout",
          "output_type": "stream",
          "text": [
            "This is the accuracy score: 0.8008720548448951\n",
            "This is the recall score: 0.8050699040476345\n",
            "This is the precision score: 0.8071018085540007\n"
          ]
        }
      ],
      "source": [
        "print(f'This is the accuracy score: {accuracy_score(y_test, y_hat)}')\n",
        "print(f\"This is the recall score: {recall_score(y_test, y_hat, average='macro')}\")\n",
        "print(f\"This is the precision score: {precision_score(y_test, y_hat, average='macro')}\")"
      ]
    },
    {
      "cell_type": "code",
      "execution_count": null,
      "metadata": {
        "colab": {
          "base_uri": "https://localhost:8080/"
        },
        "id": "y0ul5G4QZ23e",
        "outputId": "9d56719b-ef3a-4544-d72b-26aa22deba09"
      },
      "outputs": [
        {
          "data": {
            "text/plain": [
              "GridSearchCV(cv=5, error_score='raise',\n",
              "             estimator=Pipeline(steps=[('vectorize',\n",
              "                                        CountVectorizer(stop_words=['i', 'me',\n",
              "                                                                    'my',\n",
              "                                                                    'myself',\n",
              "                                                                    'we', 'our',\n",
              "                                                                    'ours',\n",
              "                                                                    'ourselves',\n",
              "                                                                    'you',\n",
              "                                                                    \"you're\",\n",
              "                                                                    \"you've\",\n",
              "                                                                    \"you'll\",\n",
              "                                                                    \"you'd\",\n",
              "                                                                    'your',\n",
              "                                                                    'yours',\n",
              "                                                                    'yourself',\n",
              "                                                                    'yourselves',\n",
              "                                                                    'he', 'him',\n",
              "                                                                    'his',\n",
              "                                                                    'himself',\n",
              "                                                                    'she',\n",
              "                                                                    \"she's\",\n",
              "                                                                    'her',\n",
              "                                                                    'hers',\n",
              "                                                                    'herself',\n",
              "                                                                    'it',\n",
              "                                                                    \"it's\",\n",
              "                                                                    'its',\n",
              "                                                                    'itself', ...])),\n",
              "                                       ('rf', RandomForestClassifier())]),\n",
              "             param_grid={'rf__class_weight': ['balanced',\n",
              "                                              'balanced_subsample']})"
            ]
          },
          "execution_count": 11,
          "metadata": {},
          "output_type": "execute_result"
        }
      ],
      "source": [
        "count_forest = Pipeline(steps=([(\"vectorize\", CountVectorizer(stop_words= sw)), \n",
        "                                (\"rf\", RandomForestClassifier())]))\n",
        "\n",
        "parameters = {'rf__class_weight': ['balanced', 'balanced_subsample']}\n",
        "\n",
        "count_rf = GridSearchCV(estimator= count_forest,\n",
        "                 param_grid= parameters,\n",
        "                 cv=5, error_score= 'raise')\n",
        "\n",
        "count_rf.fit(X_train, y_train)"
      ]
    },
    {
      "cell_type": "code",
      "execution_count": null,
      "metadata": {
        "colab": {
          "base_uri": "https://localhost:8080/"
        },
        "id": "PzvjmSVzZ23f",
        "outputId": "db6f29eb-a9a7-4a55-f992-f7a52f669908"
      },
      "outputs": [
        {
          "name": "stdout",
          "output_type": "stream",
          "text": [
            "This is the training score: 0.995926622632703\n",
            "This is the testing score: 0.7526726379659058\n",
            "Best parameters: {'rf__class_weight': 'balanced'}\n"
          ]
        }
      ],
      "source": [
        "print(f'This is the training score: {count_rf.score(X_train, y_train)}')\n",
        "print(f'This is the testing score: {count_rf.score(X_test, y_test)}')\n",
        "print(f'Best parameters: {count_rf.best_params_}')"
      ]
    },
    {
      "cell_type": "code",
      "execution_count": null,
      "metadata": {
        "colab": {
          "base_uri": "https://localhost:8080/"
        },
        "id": "rOg9bt-fzgx_",
        "outputId": "36a3d7d3-1f53-446d-dd1e-d8b5176981dd"
      },
      "outputs": [
        {
          "data": {
            "text/plain": [
              "GridSearchCV(cv=5, error_score='raise',\n",
              "             estimator=Pipeline(steps=[('vectorize',\n",
              "                                        CountVectorizer(stop_words=['i', 'me',\n",
              "                                                                    'my',\n",
              "                                                                    'myself',\n",
              "                                                                    'we', 'our',\n",
              "                                                                    'ours',\n",
              "                                                                    'ourselves',\n",
              "                                                                    'you',\n",
              "                                                                    \"you're\",\n",
              "                                                                    \"you've\",\n",
              "                                                                    \"you'll\",\n",
              "                                                                    \"you'd\",\n",
              "                                                                    'your',\n",
              "                                                                    'yours',\n",
              "                                                                    'yourself',\n",
              "                                                                    'yourselves',\n",
              "                                                                    'he', 'him',\n",
              "                                                                    'his',\n",
              "                                                                    'himself',\n",
              "                                                                    'she',\n",
              "                                                                    \"she's\",\n",
              "                                                                    'her',\n",
              "                                                                    'hers',\n",
              "                                                                    'herself',\n",
              "                                                                    'it',\n",
              "                                                                    \"it's\",\n",
              "                                                                    'its',\n",
              "                                                                    'itself', ...])),\n",
              "                                       ('rf',\n",
              "                                        RandomForestClassifier(class_weight='balanced'))]),\n",
              "             param_grid={'rf__min_samples_leaf': [2, 10, 30, 100]})"
            ]
          },
          "execution_count": 10,
          "metadata": {},
          "output_type": "execute_result"
        }
      ],
      "source": [
        "count_forest = Pipeline(steps=([(\"vectorize\", CountVectorizer(stop_words= sw)), \n",
        "                                (\"rf\", RandomForestClassifier(class_weight='balanced'))]))\n",
        "\n",
        "parameters = {'rf__min_samples_leaf': [2, 10, 30, 100]}\n",
        "\n",
        "count_rf2 = GridSearchCV(estimator= count_forest,\n",
        "                 param_grid= parameters,\n",
        "                 cv=5, error_score= 'raise')\n",
        "\n",
        "count_rf2.fit(X_train, y_train)"
      ]
    },
    {
      "cell_type": "code",
      "execution_count": null,
      "metadata": {
        "colab": {
          "base_uri": "https://localhost:8080/"
        },
        "id": "IXZ45jMazg0_",
        "outputId": "506392a9-de89-4ebb-f772-4af04b13074b"
      },
      "outputs": [
        {
          "name": "stdout",
          "output_type": "stream",
          "text": [
            "This is the training score: 0.7704199256042884\n",
            "This is the testing score: 0.7135615035066061\n",
            "Best parameters: {'rf__min_samples_leaf': 2}\n"
          ]
        }
      ],
      "source": [
        "print(f'This is the training score: {count_rf2.score(X_train, y_train)}')\n",
        "print(f'This is the testing score: {count_rf2.score(X_test, y_test)}')\n",
        "print(f'Best parameters: {count_rf2.best_params_}')"
      ]
    },
    {
      "cell_type": "code",
      "execution_count": null,
      "metadata": {
        "colab": {
          "base_uri": "https://localhost:8080/"
        },
        "id": "qi_3uIaZFoS7",
        "outputId": "d2691976-4522-4f2f-a30f-a35e3989f457"
      },
      "outputs": [
        {
          "data": {
            "text/plain": [
              "GridSearchCV(cv=5, error_score='raise',\n",
              "             estimator=Pipeline(steps=[('vectorize',\n",
              "                                        CountVectorizer(stop_words=['i', 'me',\n",
              "                                                                    'my',\n",
              "                                                                    'myself',\n",
              "                                                                    'we', 'our',\n",
              "                                                                    'ours',\n",
              "                                                                    'ourselves',\n",
              "                                                                    'you',\n",
              "                                                                    \"you're\",\n",
              "                                                                    \"you've\",\n",
              "                                                                    \"you'll\",\n",
              "                                                                    \"you'd\",\n",
              "                                                                    'your',\n",
              "                                                                    'yours',\n",
              "                                                                    'yourself',\n",
              "                                                                    'yourselves',\n",
              "                                                                    'he', 'him',\n",
              "                                                                    'his',\n",
              "                                                                    'himself',\n",
              "                                                                    'she',\n",
              "                                                                    \"she's\",\n",
              "                                                                    'her',\n",
              "                                                                    'hers',\n",
              "                                                                    'herself',\n",
              "                                                                    'it',\n",
              "                                                                    \"it's\",\n",
              "                                                                    'its',\n",
              "                                                                    'itself', ...])),\n",
              "                                       ('rf',\n",
              "                                        RandomForestClassifier(class_weight='balanced',\n",
              "                                                               min_samples_leaf=2))]),\n",
              "             param_grid={'rf__min_samples_split': [2, 10, 20]})"
            ]
          },
          "execution_count": 12,
          "metadata": {},
          "output_type": "execute_result"
        }
      ],
      "source": [
        "count_forest = Pipeline(steps=([(\"vectorize\", CountVectorizer(stop_words= sw)), \n",
        "                                (\"rf\", RandomForestClassifier(class_weight='balanced', min_samples_leaf=2))]))\n",
        "\n",
        "parameters = {'rf__min_samples_split': [2, 10, 20]}\n",
        "\n",
        "count_rf3 = GridSearchCV(estimator= count_forest,\n",
        "                 param_grid= parameters,\n",
        "                 cv=5, error_score= 'raise')\n",
        "\n",
        "count_rf3.fit(X_train, y_train)"
      ]
    },
    {
      "cell_type": "code",
      "execution_count": null,
      "metadata": {
        "colab": {
          "base_uri": "https://localhost:8080/"
        },
        "id": "7KCLpGo7FoWb",
        "outputId": "20adea40-e593-4fa1-acba-dbf7a24ef27d"
      },
      "outputs": [
        {
          "name": "stdout",
          "output_type": "stream",
          "text": [
            "This is the training score: 0.7699956154618616\n",
            "This is the testing score: 0.713141236111476\n",
            "Best parameters: {'rf__min_samples_split': 2}\n"
          ]
        }
      ],
      "source": [
        "print(f'This is the training score: {count_rf3.score(X_train, y_train)}')\n",
        "print(f'This is the testing score: {count_rf3.score(X_test, y_test)}')\n",
        "print(f'Best parameters: {count_rf3.best_params_}')"
      ]
    },
    {
      "cell_type": "code",
      "execution_count": null,
      "metadata": {
        "colab": {
          "base_uri": "https://localhost:8080/"
        },
        "id": "dDfeOnOHuLlN",
        "outputId": "bd7af45e-556c-42b2-a726-dbf983910ea7"
      },
      "outputs": [
        {
          "data": {
            "text/plain": [
              "GridSearchCV(cv=5, error_score='raise',\n",
              "             estimator=Pipeline(steps=[('vectorize',\n",
              "                                        CountVectorizer(stop_words=['i', 'me',\n",
              "                                                                    'my',\n",
              "                                                                    'myself',\n",
              "                                                                    'we', 'our',\n",
              "                                                                    'ours',\n",
              "                                                                    'ourselves',\n",
              "                                                                    'you',\n",
              "                                                                    \"you're\",\n",
              "                                                                    \"you've\",\n",
              "                                                                    \"you'll\",\n",
              "                                                                    \"you'd\",\n",
              "                                                                    'your',\n",
              "                                                                    'yours',\n",
              "                                                                    'yourself',\n",
              "                                                                    'yourselves',\n",
              "                                                                    'he', 'him',\n",
              "                                                                    'his',\n",
              "                                                                    'himself',\n",
              "                                                                    'she',\n",
              "                                                                    \"she's\",\n",
              "                                                                    'her',\n",
              "                                                                    'hers',\n",
              "                                                                    'herself',\n",
              "                                                                    'it',\n",
              "                                                                    \"it's\",\n",
              "                                                                    'its',\n",
              "                                                                    'itself', ...])),\n",
              "                                       ('rf',\n",
              "                                        RandomForestClassifier(class_weight='balanced',\n",
              "                                                               min_samples_leaf=2))]),\n",
              "             param_grid={'rf__n_estimators': [50, 100, 150]})"
            ]
          },
          "execution_count": 20,
          "metadata": {},
          "output_type": "execute_result"
        }
      ],
      "source": [
        "count_forest = Pipeline(steps=([(\"vectorize\", CountVectorizer(stop_words= sw)), \n",
        "                                (\"rf\", RandomForestClassifier(class_weight='balanced', min_samples_leaf=2))]))\n",
        "\n",
        "parameters = {'rf__n_estimators': [50, 100, 150]}\n",
        "\n",
        "count_rf4 = GridSearchCV(estimator= count_forest,\n",
        "                 param_grid= parameters,\n",
        "                 cv=5, error_score= 'raise')\n",
        "\n",
        "count_rf4.fit(X_train, y_train)"
      ]
    },
    {
      "cell_type": "code",
      "execution_count": null,
      "metadata": {
        "colab": {
          "base_uri": "https://localhost:8080/"
        },
        "id": "C8Q-72VQuLoi",
        "outputId": "0285a17b-3eb3-43d1-ab60-bd66d567ebf7"
      },
      "outputs": [
        {
          "name": "stdout",
          "output_type": "stream",
          "text": [
            "This is the training score: 0.7699248971047905\n",
            "This is the testing score: 0.713141236111476\n",
            "Best parameters: {'rf__n_estimators': 150}\n"
          ]
        }
      ],
      "source": [
        "print(f'This is the training score: {count_rf4.score(X_train, y_train)}')\n",
        "print(f'This is the testing score: {count_rf4.score(X_test, y_test)}')\n",
        "print(f'Best parameters: {count_rf4.best_params_}')"
      ]
    },
    {
      "cell_type": "markdown",
      "metadata": {
        "id": "H-Y5wz05Z23f"
      },
      "source": [
        "### TF-IDF Vectorizer"
      ]
    },
    {
      "cell_type": "code",
      "execution_count": null,
      "metadata": {
        "id": "mQw2zzD5Z23f",
        "outputId": "3b72c753-a0fe-4010-9da1-d18e2f76ccaf"
      },
      "outputs": [
        {
          "data": {
            "text/plain": [
              "GridSearchCV(cv=5, error_score='raise',\n",
              "             estimator=Pipeline(steps=[('vectorize',\n",
              "                                        TfidfVectorizer(stop_words=['i', 'me',\n",
              "                                                                    'my',\n",
              "                                                                    'myself',\n",
              "                                                                    'we', 'our',\n",
              "                                                                    'ours',\n",
              "                                                                    'ourselves',\n",
              "                                                                    'you',\n",
              "                                                                    \"you're\",\n",
              "                                                                    \"you've\",\n",
              "                                                                    \"you'll\",\n",
              "                                                                    \"you'd\",\n",
              "                                                                    'your',\n",
              "                                                                    'yours',\n",
              "                                                                    'yourself',\n",
              "                                                                    'yourselves',\n",
              "                                                                    'he', 'him',\n",
              "                                                                    'his',\n",
              "                                                                    'himself',\n",
              "                                                                    'she',\n",
              "                                                                    \"she's\",\n",
              "                                                                    'her',\n",
              "                                                                    'hers',\n",
              "                                                                    'herself',\n",
              "                                                                    'it',\n",
              "                                                                    \"it's\",\n",
              "                                                                    'its',\n",
              "                                                                    'itself', ...])),\n",
              "                                       ('mnb', MultinomialNB())]),\n",
              "             param_grid={'mnb__alpha': array([0.  , 0.25, 0.5 , 0.75, 1.  ])})"
            ]
          },
          "execution_count": 17,
          "metadata": {},
          "output_type": "execute_result"
        }
      ],
      "source": [
        "tfidf_mnb = Pipeline(steps=([(\"vectorize\", TfidfVectorizer(stop_words= sw)),\n",
        "                            (\"mnb\", MultinomialNB())]))\n",
        "\n",
        "parameters = {'mnb__alpha': np.linspace(0, 1.0, 5)}\n",
        "\n",
        "tfidf_gs = GridSearchCV(estimator= tfidf_mnb,\n",
        "                 param_grid= parameters,\n",
        "                 cv=5, error_score= 'raise')\n",
        "\n",
        "tfidf_gs.fit(X_train, y_train)"
      ]
    },
    {
      "cell_type": "code",
      "execution_count": null,
      "metadata": {
        "id": "rM4cKiSGZ23g",
        "outputId": "0f17987a-d012-40fa-c83d-378477aae154"
      },
      "outputs": [
        {
          "name": "stdout",
          "output_type": "stream",
          "text": [
            "This is the training score: 0.8851675317879015\n",
            "This is the testing score: 0.8019752567571117\n",
            "Best parameters: {'mnb__alpha': 0.25}\n"
          ]
        }
      ],
      "source": [
        "print(f'This is the training score: {tfidf_gs.score(X_train, y_train)}')\n",
        "print(f'This is the testing score: {tfidf_gs.score(X_test, y_test)}')\n",
        "print(f'Best parameters: {tfidf_gs.best_params_}')"
      ]
    },
    {
      "cell_type": "code",
      "execution_count": null,
      "metadata": {
        "colab": {
          "base_uri": "https://localhost:8080/"
        },
        "id": "OJnSxysqZ23g",
        "outputId": "9c82df31-de44-4a4f-9caf-c2503f6f51c9"
      },
      "outputs": [
        {
          "data": {
            "text/plain": [
              "GridSearchCV(cv=5, error_score='raise',\n",
              "             estimator=Pipeline(steps=[('vectorize',\n",
              "                                        TfidfVectorizer(stop_words=['i', 'me',\n",
              "                                                                    'my',\n",
              "                                                                    'myself',\n",
              "                                                                    'we', 'our',\n",
              "                                                                    'ours',\n",
              "                                                                    'ourselves',\n",
              "                                                                    'you',\n",
              "                                                                    \"you're\",\n",
              "                                                                    \"you've\",\n",
              "                                                                    \"you'll\",\n",
              "                                                                    \"you'd\",\n",
              "                                                                    'your',\n",
              "                                                                    'yours',\n",
              "                                                                    'yourself',\n",
              "                                                                    'yourselves',\n",
              "                                                                    'he', 'him',\n",
              "                                                                    'his',\n",
              "                                                                    'himself',\n",
              "                                                                    'she',\n",
              "                                                                    \"she's\",\n",
              "                                                                    'her',\n",
              "                                                                    'hers',\n",
              "                                                                    'herself',\n",
              "                                                                    'it',\n",
              "                                                                    \"it's\",\n",
              "                                                                    'its',\n",
              "                                                                    'itself', ...])),\n",
              "                                       ('rf',\n",
              "                                        RandomForestClassifier(class_weight='balanced'))]),\n",
              "             param_grid={'rf__min_samples_leaf': [2, 3, 4, 5]})"
            ]
          },
          "execution_count": 23,
          "metadata": {},
          "output_type": "execute_result"
        }
      ],
      "source": [
        "tfidf_forest = Pipeline(steps=([(\"vectorize\", TfidfVectorizer(stop_words= sw)), \n",
        "                                (\"rf\", RandomForestClassifier(class_weight='balanced'))]))\n",
        "\n",
        "parameters = {'rf__min_samples_leaf': [2, 3, 4, 5]}\n",
        "\n",
        "tfidf_rf = GridSearchCV(estimator= tfidf_forest,\n",
        "                 param_grid= parameters,\n",
        "                 cv=5, error_score= 'raise')\n",
        "\n",
        "tfidf_rf.fit(X_train, y_train)"
      ]
    },
    {
      "cell_type": "code",
      "execution_count": null,
      "metadata": {
        "colab": {
          "base_uri": "https://localhost:8080/"
        },
        "id": "W4FNYQ73Z23h",
        "outputId": "0b47edf4-0e8b-4f6e-cd7f-1e8d0df6134c"
      },
      "outputs": [
        {
          "name": "stdout",
          "output_type": "stream",
          "text": [
            "This is the training score: 0.7882409515862128\n",
            "This is the testing score: 0.7120380341992593\n",
            "Best parameters: {'rf__min_samples_leaf': 2}\n"
          ]
        }
      ],
      "source": [
        "print(f'This is the training score: {tfidf_rf.score(X_train, y_train)}')\n",
        "print(f'This is the testing score: {tfidf_rf.score(X_test, y_test)}')\n",
        "print(f'Best parameters: {tfidf_rf.best_params_}')"
      ]
    },
    {
      "cell_type": "code",
      "execution_count": null,
      "metadata": {
        "colab": {
          "base_uri": "https://localhost:8080/"
        },
        "id": "EYqki2F3Z23h",
        "outputId": "317782ea-a7b1-43b2-ba4d-f09cbcc5ed68"
      },
      "outputs": [
        {
          "data": {
            "text/plain": [
              "GridSearchCV(cv=5, error_score='raise',\n",
              "             estimator=Pipeline(steps=[('vectorize',\n",
              "                                        TfidfVectorizer(stop_words=['i', 'me',\n",
              "                                                                    'my',\n",
              "                                                                    'myself',\n",
              "                                                                    'we', 'our',\n",
              "                                                                    'ours',\n",
              "                                                                    'ourselves',\n",
              "                                                                    'you',\n",
              "                                                                    \"you're\",\n",
              "                                                                    \"you've\",\n",
              "                                                                    \"you'll\",\n",
              "                                                                    \"you'd\",\n",
              "                                                                    'your',\n",
              "                                                                    'yours',\n",
              "                                                                    'yourself',\n",
              "                                                                    'yourselves',\n",
              "                                                                    'he', 'him',\n",
              "                                                                    'his',\n",
              "                                                                    'himself',\n",
              "                                                                    'she',\n",
              "                                                                    \"she's\",\n",
              "                                                                    'her',\n",
              "                                                                    'hers',\n",
              "                                                                    'herself',\n",
              "                                                                    'it',\n",
              "                                                                    \"it's\",\n",
              "                                                                    'its',\n",
              "                                                                    'itself', ...])),\n",
              "                                       ('rf',\n",
              "                                        RandomForestClassifier(class_weight='balanced',\n",
              "                                                               min_samples_leaf=2))]),\n",
              "             param_grid={'rf__min_samples_split': [2, 5, 10]})"
            ]
          },
          "execution_count": 25,
          "metadata": {},
          "output_type": "execute_result"
        }
      ],
      "source": [
        "tfidf_forest = Pipeline(steps=([(\"vectorize\", TfidfVectorizer(stop_words= sw)), \n",
        "                                (\"rf\", RandomForestClassifier(class_weight='balanced', min_samples_leaf=2))]))\n",
        "\n",
        "parameters = {'rf__min_samples_split': [2, 5, 10]}\n",
        "\n",
        "tfidf_rf2 = GridSearchCV(estimator= tfidf_forest,\n",
        "                 param_grid= parameters,\n",
        "                 cv=5, error_score= 'raise')\n",
        "\n",
        "tfidf_rf2.fit(X_train, y_train)"
      ]
    },
    {
      "cell_type": "code",
      "execution_count": null,
      "metadata": {
        "colab": {
          "base_uri": "https://localhost:8080/"
        },
        "id": "ifQBMuZHZ23h",
        "outputId": "3b39168d-f5c4-41a4-a7f5-fe8186c3cea7"
      },
      "outputs": [
        {
          "name": "stdout",
          "output_type": "stream",
          "text": [
            "This is the training score: 0.7880570838578278\n",
            "This is the testing score: 0.7129311024139109\n",
            "Best parameters: {'rf__min_samples_split': 5}\n"
          ]
        }
      ],
      "source": [
        "print(f'This is the training score: {tfidf_rf2.score(X_train, y_train)}')\n",
        "print(f'This is the testing score: {tfidf_rf2.score(X_test, y_test)}')\n",
        "print(f'Best parameters: {tfidf_rf2.best_params_}')"
      ]
    },
    {
      "cell_type": "code",
      "execution_count": null,
      "metadata": {
        "colab": {
          "base_uri": "https://localhost:8080/"
        },
        "id": "jxD61xpLPnWD",
        "outputId": "685b0e76-c459-406d-f9b0-b8018e860bba"
      },
      "outputs": [
        {
          "data": {
            "text/plain": [
              "GridSearchCV(cv=5, error_score='raise',\n",
              "             estimator=Pipeline(steps=[('vectorize',\n",
              "                                        TfidfVectorizer(stop_words=['i', 'me',\n",
              "                                                                    'my',\n",
              "                                                                    'myself',\n",
              "                                                                    'we', 'our',\n",
              "                                                                    'ours',\n",
              "                                                                    'ourselves',\n",
              "                                                                    'you',\n",
              "                                                                    \"you're\",\n",
              "                                                                    \"you've\",\n",
              "                                                                    \"you'll\",\n",
              "                                                                    \"you'd\",\n",
              "                                                                    'your',\n",
              "                                                                    'yours',\n",
              "                                                                    'yourself',\n",
              "                                                                    'yourselves',\n",
              "                                                                    'he', 'him',\n",
              "                                                                    'his',\n",
              "                                                                    'himself',\n",
              "                                                                    'she',\n",
              "                                                                    \"she's\",\n",
              "                                                                    'her',\n",
              "                                                                    'hers',\n",
              "                                                                    'herself',\n",
              "                                                                    'it',\n",
              "                                                                    \"it's\",\n",
              "                                                                    'its',\n",
              "                                                                    'itself', ...])),\n",
              "                                       ('rf',\n",
              "                                        RandomForestClassifier(class_weight='balanced',\n",
              "                                                               min_samples_leaf=2,\n",
              "                                                               min_samples_split=5))]),\n",
              "             param_grid={'rf__n_estimators': [350, 400, 450]})"
            ]
          },
          "execution_count": 33,
          "metadata": {},
          "output_type": "execute_result"
        }
      ],
      "source": [
        "tfidf_forest = Pipeline(steps=([(\"vectorize\", TfidfVectorizer(stop_words= sw)), \n",
        "                                (\"rf\", RandomForestClassifier(class_weight='balanced', min_samples_leaf=2,\n",
        "                                                              min_samples_split=5))]))\n",
        "\n",
        "parameters = {'rf__n_estimators': [350, 400, 450]}\n",
        "\n",
        "tfidf_rf3 = GridSearchCV(estimator= tfidf_forest,\n",
        "                 param_grid= parameters,\n",
        "                 cv=5, error_score= 'raise')\n",
        "\n",
        "tfidf_rf3.fit(X_train, y_train)"
      ]
    },
    {
      "cell_type": "code",
      "execution_count": null,
      "metadata": {
        "colab": {
          "base_uri": "https://localhost:8080/"
        },
        "id": "beTKL5vCPnYS",
        "outputId": "f4ec80a5-3f65-48a0-b626-4de1de67c673"
      },
      "outputs": [
        {
          "name": "stdout",
          "output_type": "stream",
          "text": [
            "This is the training score: 0.7901927782413759\n",
            "This is the testing score: 0.7135352367944104\n",
            "Best parameters: {'rf__n_estimators': 350}\n"
          ]
        }
      ],
      "source": [
        "print(f'This is the training score: {tfidf_rf3.score(X_train, y_train)}')\n",
        "print(f'This is the testing score: {tfidf_rf3.score(X_test, y_test)}')\n",
        "print(f'Best parameters: {tfidf_rf3.best_params_}')"
      ]
    },
    {
      "cell_type": "code",
      "execution_count": null,
      "metadata": {
        "colab": {
          "base_uri": "https://localhost:8080/"
        },
        "id": "-JlJMAGbx_4g",
        "outputId": "0a607ea5-10b8-49e1-9a49-a92ecd006e65"
      },
      "outputs": [
        {
          "data": {
            "text/plain": [
              "GridSearchCV(cv=5, error_score='raise',\n",
              "             estimator=Pipeline(steps=[('vectorize',\n",
              "                                        TfidfVectorizer(stop_words=['i', 'me',\n",
              "                                                                    'my',\n",
              "                                                                    'myself',\n",
              "                                                                    'we', 'our',\n",
              "                                                                    'ours',\n",
              "                                                                    'ourselves',\n",
              "                                                                    'you',\n",
              "                                                                    \"you're\",\n",
              "                                                                    \"you've\",\n",
              "                                                                    \"you'll\",\n",
              "                                                                    \"you'd\",\n",
              "                                                                    'your',\n",
              "                                                                    'yours',\n",
              "                                                                    'yourself',\n",
              "                                                                    'yourselves',\n",
              "                                                                    'he', 'him',\n",
              "                                                                    'his',\n",
              "                                                                    'himself',\n",
              "                                                                    'she',\n",
              "                                                                    \"she's\",\n",
              "                                                                    'her',\n",
              "                                                                    'hers',\n",
              "                                                                    'herself',\n",
              "                                                                    'it',\n",
              "                                                                    \"it's\",\n",
              "                                                                    'its',\n",
              "                                                                    'itself', ...])),\n",
              "                                       ('rf',\n",
              "                                        RandomForestClassifier(class_weight='balanced',\n",
              "                                                               min_samples_leaf=2,\n",
              "                                                               min_samples_split=5,\n",
              "                                                               n_estimators=350))]),\n",
              "             param_grid={'rf__max_depth': [400, 450, 500]})"
            ]
          },
          "execution_count": 47,
          "metadata": {},
          "output_type": "execute_result"
        }
      ],
      "source": [
        "tfidf_forest = Pipeline(steps=([(\"vectorize\", TfidfVectorizer(stop_words= sw)), \n",
        "                                (\"rf\", RandomForestClassifier(class_weight='balanced', min_samples_leaf=2,\n",
        "                                                              min_samples_split=5, n_estimators= 350))]))\n",
        "\n",
        "parameters = {'rf__max_depth': [400, 450, 500]}\n",
        "\n",
        "tfidf_rf4 = GridSearchCV(estimator= tfidf_forest,\n",
        "                 param_grid= parameters,\n",
        "                 cv=5, error_score= 'raise')\n",
        "\n",
        "tfidf_rf4.fit(X_train, y_train)"
      ]
    },
    {
      "cell_type": "code",
      "execution_count": null,
      "metadata": {
        "colab": {
          "base_uri": "https://localhost:8080/"
        },
        "id": "N_sJubySyNed",
        "outputId": "eb502ffb-5ff4-4f07-da67-4d62ebdc54ed"
      },
      "outputs": [
        {
          "name": "stdout",
          "output_type": "stream",
          "text": [
            "This is the training score: 0.7208039262831846\n",
            "This is the testing score: 0.6876887919939061\n",
            "Best parameters: {'rf__max_depth': 500}\n"
          ]
        }
      ],
      "source": [
        "print(f'This is the training score: {tfidf_rf4.score(X_train, y_train)}')\n",
        "print(f'This is the testing score: {tfidf_rf4.score(X_test, y_test)}')\n",
        "print(f'Best parameters: {tfidf_rf4.best_params_}')"
      ]
    }
  ],
  "metadata": {
    "colab": {
      "collapsed_sections": [],
      "name": "Copy of headline_modeling.ipynb",
      "provenance": []
    },
    "interpreter": {
      "hash": "4ba33acf19d6f8950a82f714c4929bec5c0642f06f1336034ea15f517b72499a"
    },
    "kernelspec": {
      "display_name": "Python 3.8.5 ('learn-env')",
      "language": "python",
      "name": "python3"
    },
    "language_info": {
      "codemirror_mode": {
        "name": "ipython",
        "version": 3
      },
      "file_extension": ".py",
      "mimetype": "text/x-python",
      "name": "python",
      "nbconvert_exporter": "python",
      "pygments_lexer": "ipython3",
      "version": "3.8.5"
    },
    "orig_nbformat": 4
  },
  "nbformat": 4,
  "nbformat_minor": 0
}
