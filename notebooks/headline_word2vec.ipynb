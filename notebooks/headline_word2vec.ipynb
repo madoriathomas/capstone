{
 "cells": [
  {
   "cell_type": "markdown",
   "metadata": {},
   "source": [
    "# Headline Word2Vec"
   ]
  },
  {
   "cell_type": "code",
   "execution_count": 1,
   "metadata": {},
   "outputs": [],
   "source": [
    "import pandas as pd\n",
    "import numpy as np \n",
    "import matplotlib.pyplot as plt\n",
    "%matplotlib inline\n",
    "import seaborn as sns\n",
    "\n",
    "import nltk\n",
    "from nltk.corpus import stopwords, wordnet\n",
    "from imblearn.pipeline import Pipeline as ImPipeline\n",
    "from sklearn.pipeline import Pipeline\n",
    "from sklearn.feature_extraction.text import TfidfVectorizer, CountVectorizer\n",
    "from sklearn.inspection import permutation_importance\n",
    "from sklearn.model_selection import train_test_split, GridSearchCV\n",
    "from nltk.stem import WordNetLemmatizer\n",
    "from sklearn.metrics import accuracy_score, precision_score, recall_score, plot_confusion_matrix \n",
    "import string\n",
    "import re\n",
    "from sklearn.metrics import ConfusionMatrixDisplay"
   ]
  },
  {
   "cell_type": "code",
   "execution_count": 2,
   "metadata": {},
   "outputs": [],
   "source": [
    "import warnings\n",
    "warnings.filterwarnings('ignore')"
   ]
  },
  {
   "cell_type": "code",
   "execution_count": 3,
   "metadata": {},
   "outputs": [
    {
     "data": {
      "text/html": [
       "<div>\n",
       "<style scoped>\n",
       "    .dataframe tbody tr th:only-of-type {\n",
       "        vertical-align: middle;\n",
       "    }\n",
       "\n",
       "    .dataframe tbody tr th {\n",
       "        vertical-align: top;\n",
       "    }\n",
       "\n",
       "    .dataframe thead th {\n",
       "        text-align: right;\n",
       "    }\n",
       "</style>\n",
       "<table border=\"1\" class=\"dataframe\">\n",
       "  <thead>\n",
       "    <tr style=\"text-align: right;\">\n",
       "      <th></th>\n",
       "      <th>topic</th>\n",
       "      <th>link</th>\n",
       "      <th>domain</th>\n",
       "      <th>published_date</th>\n",
       "      <th>title</th>\n",
       "      <th>lang</th>\n",
       "    </tr>\n",
       "  </thead>\n",
       "  <tbody>\n",
       "    <tr>\n",
       "      <th>0</th>\n",
       "      <td>SCIENCE</td>\n",
       "      <td>https://www.eurekalert.org/pub_releases/2020-0...</td>\n",
       "      <td>eurekalert.org</td>\n",
       "      <td>2020-08-06 13:59:45</td>\n",
       "      <td>A closer look at water-splitting's solar fuel ...</td>\n",
       "      <td>en</td>\n",
       "    </tr>\n",
       "    <tr>\n",
       "      <th>1</th>\n",
       "      <td>SCIENCE</td>\n",
       "      <td>https://www.pulse.ng/news/world/an-irresistibl...</td>\n",
       "      <td>pulse.ng</td>\n",
       "      <td>2020-08-12 15:14:19</td>\n",
       "      <td>An irresistible scent makes locusts swarm, stu...</td>\n",
       "      <td>en</td>\n",
       "    </tr>\n",
       "    <tr>\n",
       "      <th>2</th>\n",
       "      <td>SCIENCE</td>\n",
       "      <td>https://www.express.co.uk/news/science/1322607...</td>\n",
       "      <td>express.co.uk</td>\n",
       "      <td>2020-08-13 21:01:00</td>\n",
       "      <td>Artificial intelligence warning: AI will know ...</td>\n",
       "      <td>en</td>\n",
       "    </tr>\n",
       "    <tr>\n",
       "      <th>3</th>\n",
       "      <td>SCIENCE</td>\n",
       "      <td>https://www.ndtv.com/world-news/glaciers-could...</td>\n",
       "      <td>ndtv.com</td>\n",
       "      <td>2020-08-03 22:18:26</td>\n",
       "      <td>Glaciers Could Have Sculpted Mars Valleys: Study</td>\n",
       "      <td>en</td>\n",
       "    </tr>\n",
       "    <tr>\n",
       "      <th>4</th>\n",
       "      <td>SCIENCE</td>\n",
       "      <td>https://www.thesun.ie/tech/5742187/perseid-met...</td>\n",
       "      <td>thesun.ie</td>\n",
       "      <td>2020-08-12 19:54:36</td>\n",
       "      <td>Perseid meteor shower 2020: What time and how ...</td>\n",
       "      <td>en</td>\n",
       "    </tr>\n",
       "  </tbody>\n",
       "</table>\n",
       "</div>"
      ],
      "text/plain": [
       "     topic                                               link          domain  \\\n",
       "0  SCIENCE  https://www.eurekalert.org/pub_releases/2020-0...  eurekalert.org   \n",
       "1  SCIENCE  https://www.pulse.ng/news/world/an-irresistibl...        pulse.ng   \n",
       "2  SCIENCE  https://www.express.co.uk/news/science/1322607...   express.co.uk   \n",
       "3  SCIENCE  https://www.ndtv.com/world-news/glaciers-could...        ndtv.com   \n",
       "4  SCIENCE  https://www.thesun.ie/tech/5742187/perseid-met...       thesun.ie   \n",
       "\n",
       "        published_date                                              title lang  \n",
       "0  2020-08-06 13:59:45  A closer look at water-splitting's solar fuel ...   en  \n",
       "1  2020-08-12 15:14:19  An irresistible scent makes locusts swarm, stu...   en  \n",
       "2  2020-08-13 21:01:00  Artificial intelligence warning: AI will know ...   en  \n",
       "3  2020-08-03 22:18:26   Glaciers Could Have Sculpted Mars Valleys: Study   en  \n",
       "4  2020-08-12 19:54:36  Perseid meteor shower 2020: What time and how ...   en  "
      ]
     },
     "execution_count": 3,
     "metadata": {},
     "output_type": "execute_result"
    }
   ],
   "source": [
    "corpus = pd.read_csv('data/labeled_newscatcher_dataset.csv', sep=\";\")\n",
    "corpus.head()"
   ]
  },
  {
   "cell_type": "code",
   "execution_count": 4,
   "metadata": {},
   "outputs": [],
   "source": [
    "# cleaning my test data\n",
    "sw = stopwords.words('english') + list(string.punctuation)\n",
    "\n",
    "corpus.title = [word.lower() for word in corpus.title]\n",
    "pattern = \"([a-zA-Z]+(?:'[a-z]+)?)\"\n",
    "corpus.title = [nltk.regexp_tokenize(line, pattern) for line in corpus.title]\n",
    "lemma = WordNetLemmatizer()\n",
    "corpus.title= [[lemma.lemmatize(word) for word in line] for line in corpus.title]\n",
    "corpus.title = [[word for word in line if word not in sw] for line in corpus.title]"
   ]
  },
  {
   "cell_type": "markdown",
   "metadata": {},
   "source": [
    "## Word2Vec"
   ]
  },
  {
   "cell_type": "markdown",
   "metadata": {},
   "source": [
    "### Continuous Bag of Words (CBOW)"
   ]
  },
  {
   "cell_type": "code",
   "execution_count": 5,
   "metadata": {},
   "outputs": [
    {
     "data": {
      "text/plain": [
       "(16911179, 18492420)"
      ]
     },
     "execution_count": 5,
     "metadata": {},
     "output_type": "execute_result"
    }
   ],
   "source": [
    "from gensim.models import Word2Vec\n",
    "\n",
    "cbow_model= Word2Vec(corpus.title)\n",
    "cbow_model.train(corpus.title, total_examples=len(corpus.title), epochs=20)"
   ]
  },
  {
   "cell_type": "code",
   "execution_count": 6,
   "metadata": {},
   "outputs": [
    {
     "data": {
      "text/plain": [
       "[('smartphone', 0.6154003143310547),\n",
       " ('smartphones', 0.611376941204071),\n",
       " ('qualcomm', 0.5446385145187378),\n",
       " ('android', 0.5332754850387573),\n",
       " ('nord', 0.5194308161735535),\n",
       " ('handset', 0.5045873522758484),\n",
       " ('huawei', 0.5039869546890259),\n",
       " ('lte', 0.5010994076728821),\n",
       " ('mobile', 0.5003875494003296),\n",
       " ('flagship', 0.49242961406707764)]"
      ]
     },
     "execution_count": 6,
     "metadata": {},
     "output_type": "execute_result"
    }
   ],
   "source": [
    "cbow_model.most_similar(\"phone\")"
   ]
  },
  {
   "cell_type": "code",
   "execution_count": 7,
   "metadata": {},
   "outputs": [
    {
     "data": {
      "text/plain": [
       "(17624288, 18492420)"
      ]
     },
     "execution_count": 7,
     "metadata": {},
     "output_type": "execute_result"
    }
   ],
   "source": [
    "cbow_model= Word2Vec(corpus.title, size=50, min_count=2, window=3)\n",
    "cbow_model.train(corpus.title, total_examples=len(corpus.title), epochs=20)"
   ]
  },
  {
   "cell_type": "code",
   "execution_count": 8,
   "metadata": {},
   "outputs": [
    {
     "data": {
      "text/plain": [
       "[('smartphone', 0.7844327688217163),\n",
       " ('smartphones', 0.7375056147575378),\n",
       " ('samsung', 0.6573551297187805),\n",
       " ('android', 0.6406950950622559),\n",
       " ('apps', 0.6405025720596313),\n",
       " ('dni', 0.6323405504226685),\n",
       " ('gmail', 0.6300261616706848),\n",
       " (\"samsung's\", 0.6288827657699585),\n",
       " ('cal', 0.6248137950897217),\n",
       " ('flagship', 0.6238561272621155)]"
      ]
     },
     "execution_count": 8,
     "metadata": {},
     "output_type": "execute_result"
    }
   ],
   "source": [
    "cbow_model.most_similar(\"phone\")"
   ]
  },
  {
   "cell_type": "code",
   "execution_count": 9,
   "metadata": {},
   "outputs": [
    {
     "data": {
      "text/plain": [
       "(17110171, 18492420)"
      ]
     },
     "execution_count": 9,
     "metadata": {},
     "output_type": "execute_result"
    }
   ],
   "source": [
    "cbow_model= Word2Vec(corpus.title, size=50, min_count=4, window=3)\n",
    "cbow_model.train(corpus.title, total_examples=len(corpus.title), epochs=20)"
   ]
  },
  {
   "cell_type": "code",
   "execution_count": 10,
   "metadata": {},
   "outputs": [
    {
     "data": {
      "text/plain": [
       "[('smartphone', 0.785496175289154),\n",
       " ('smartphones', 0.7146581411361694),\n",
       " ('android', 0.6582589745521545),\n",
       " ('gmail', 0.6500667929649353),\n",
       " ('flagship', 0.6304707527160645),\n",
       " ('samsung', 0.6189596056938171),\n",
       " ('mobile', 0.6175329685211182),\n",
       " ('apps', 0.6033751964569092),\n",
       " ('malware', 0.5983377695083618),\n",
       " ('qualcomm', 0.5966525673866272)]"
      ]
     },
     "execution_count": 10,
     "metadata": {},
     "output_type": "execute_result"
    }
   ],
   "source": [
    "cbow_model.most_similar(\"phone\")"
   ]
  },
  {
   "cell_type": "code",
   "execution_count": 11,
   "metadata": {},
   "outputs": [
    {
     "data": {
      "text/plain": [
       "(17623944, 18492420)"
      ]
     },
     "execution_count": 11,
     "metadata": {},
     "output_type": "execute_result"
    }
   ],
   "source": [
    "cbow_model= Word2Vec(corpus.title, size=50, min_count=2, window=4)\n",
    "cbow_model.train(corpus.title, total_examples=len(corpus.title), epochs=20)"
   ]
  },
  {
   "cell_type": "code",
   "execution_count": 12,
   "metadata": {},
   "outputs": [
    {
     "data": {
      "text/plain": [
       "[('smartphone', 0.7294553518295288),\n",
       " ('smartphones', 0.6931628584861755),\n",
       " ('android', 0.6760907173156738),\n",
       " ('gmail', 0.6232016086578369),\n",
       " (\"google's\", 0.6175945997238159),\n",
       " ('malware', 0.6173057556152344),\n",
       " ('user', 0.6126487851142883),\n",
       " ('mobile', 0.6080271601676941),\n",
       " ('samsung', 0.5896323919296265),\n",
       " ('apps', 0.5843027830123901)]"
      ]
     },
     "execution_count": 12,
     "metadata": {},
     "output_type": "execute_result"
    }
   ],
   "source": [
    "cbow_model.most_similar(\"phone\")"
   ]
  },
  {
   "cell_type": "code",
   "execution_count": 13,
   "metadata": {},
   "outputs": [
    {
     "data": {
      "text/plain": [
       "(17624840, 18492420)"
      ]
     },
     "execution_count": 13,
     "metadata": {},
     "output_type": "execute_result"
    }
   ],
   "source": [
    "cbow_model= Word2Vec(corpus.title, size=40, min_count=2, window=2)\n",
    "cbow_model.train(corpus.title, total_examples=len(corpus.title), epochs=20)"
   ]
  },
  {
   "cell_type": "code",
   "execution_count": 14,
   "metadata": {},
   "outputs": [
    {
     "data": {
      "text/plain": [
       "[('user', 0.7644056081771851),\n",
       " ('smartphone', 0.74847811460495),\n",
       " ('android', 0.7450239062309265),\n",
       " ('apps', 0.7088167071342468),\n",
       " ('smartphones', 0.7059887051582336),\n",
       " ('samsung', 0.6790426969528198),\n",
       " ('device', 0.6654797196388245),\n",
       " ('qualcomm', 0.6642196178436279),\n",
       " ('flagship', 0.649077832698822),\n",
       " ('pixel', 0.6423380374908447)]"
      ]
     },
     "execution_count": 14,
     "metadata": {},
     "output_type": "execute_result"
    }
   ],
   "source": [
    "cbow_model.most_similar(\"phone\")"
   ]
  },
  {
   "cell_type": "code",
   "execution_count": 15,
   "metadata": {},
   "outputs": [
    {
     "data": {
      "text/plain": [
       "(17624697, 18492420)"
      ]
     },
     "execution_count": 15,
     "metadata": {},
     "output_type": "execute_result"
    }
   ],
   "source": [
    "cbow_model= Word2Vec(corpus.title, size=30, min_count=2, window=2)\n",
    "cbow_model.train(corpus.title, total_examples=len(corpus.title), epochs=20)"
   ]
  },
  {
   "cell_type": "code",
   "execution_count": 16,
   "metadata": {},
   "outputs": [
    {
     "data": {
      "text/plain": [
       "[('smartphone', 0.7832538485527039),\n",
       " ('apps', 0.7789807915687561),\n",
       " ('android', 0.7738235592842102),\n",
       " ('smartphones', 0.7379433512687683),\n",
       " ('user', 0.7279594540596008),\n",
       " ('flagship', 0.7254611253738403),\n",
       " ('pin', 0.7240836024284363),\n",
       " (\"samsung's\", 0.7182045578956604),\n",
       " ('bug', 0.7152889370918274),\n",
       " ('gmail', 0.7066550850868225)]"
      ]
     },
     "execution_count": 16,
     "metadata": {},
     "output_type": "execute_result"
    }
   ],
   "source": [
    "cbow_model.most_similar(\"phone\")"
   ]
  },
  {
   "cell_type": "code",
   "execution_count": 17,
   "metadata": {},
   "outputs": [
    {
     "data": {
      "text/plain": [
       "(17624227, 18492420)"
      ]
     },
     "execution_count": 17,
     "metadata": {},
     "output_type": "execute_result"
    }
   ],
   "source": [
    "cbow_model= Word2Vec(corpus.title, size=20, min_count=2, window=2)\n",
    "cbow_model.train(corpus.title, total_examples=len(corpus.title), epochs=20)"
   ]
  },
  {
   "cell_type": "code",
   "execution_count": 18,
   "metadata": {},
   "outputs": [
    {
     "data": {
      "text/plain": [
       "[('android', 0.8654757738113403),\n",
       " ('flagship', 0.8339540958404541),\n",
       " ('samsung', 0.831294596195221),\n",
       " ('apps', 0.7941136956214905),\n",
       " ('mac', 0.7933629155158997),\n",
       " ('user', 0.7875032424926758),\n",
       " ('smartphone', 0.7867851257324219),\n",
       " ('iphone', 0.7864605188369751),\n",
       " ('ipads', 0.7780517339706421),\n",
       " ('handset', 0.7746727466583252)]"
      ]
     },
     "execution_count": 18,
     "metadata": {},
     "output_type": "execute_result"
    }
   ],
   "source": [
    "cbow_model.most_similar(\"phone\")"
   ]
  },
  {
   "cell_type": "code",
   "execution_count": 29,
   "metadata": {},
   "outputs": [
    {
     "data": {
      "text/plain": [
       "(17624559, 18492420)"
      ]
     },
     "execution_count": 29,
     "metadata": {},
     "output_type": "execute_result"
    }
   ],
   "source": [
    "cbow_model= Word2Vec(corpus.title, size=10, min_count=2, window=2)\n",
    "cbow_model.train(corpus.title, total_examples=len(corpus.title), epochs=20)"
   ]
  },
  {
   "cell_type": "code",
   "execution_count": 30,
   "metadata": {},
   "outputs": [
    {
     "data": {
      "text/plain": [
       "[('smartphones', 0.9153740406036377),\n",
       " ('flagship', 0.9151458740234375),\n",
       " ('android', 0.9133061766624451),\n",
       " ('nokia', 0.9085803031921387),\n",
       " ('iphone', 0.8996119499206543),\n",
       " ('smartphone', 0.8941638469696045),\n",
       " ('iphones', 0.8874186277389526),\n",
       " ('cheaper', 0.8841144442558289),\n",
       " ('screen', 0.8760377168655396),\n",
       " ('vulnerability', 0.8757739663124084)]"
      ]
     },
     "execution_count": 30,
     "metadata": {},
     "output_type": "execute_result"
    }
   ],
   "source": [
    "cbow_model.most_similar(\"phone\")"
   ]
  },
  {
   "cell_type": "code",
   "execution_count": 32,
   "metadata": {},
   "outputs": [
    {
     "data": {
      "text/plain": [
       "[(\"apple's\", 0.9351379871368408),\n",
       " ('ipad', 0.9248727560043335),\n",
       " ('macbook', 0.9237585663795471),\n",
       " ('pro', 0.9095596075057983),\n",
       " ('slim', 0.9075995683670044)]"
      ]
     },
     "execution_count": 32,
     "metadata": {},
     "output_type": "execute_result"
    }
   ],
   "source": [
    "cbow_model.wv.most_similar(positive=\"apple\",topn=5)"
   ]
  },
  {
   "cell_type": "code",
   "execution_count": 21,
   "metadata": {},
   "outputs": [
    {
     "data": {
      "text/plain": [
       "(17624905, 18492420)"
      ]
     },
     "execution_count": 21,
     "metadata": {},
     "output_type": "execute_result"
    }
   ],
   "source": [
    "cbow_model= Word2Vec(corpus.title, size=5, min_count=2, window=2)\n",
    "cbow_model.train(corpus.title, total_examples=len(corpus.title), epochs=20)"
   ]
  },
  {
   "cell_type": "code",
   "execution_count": 28,
   "metadata": {},
   "outputs": [
    {
     "data": {
      "text/plain": [
       "[('cheap', 0.999397873878479),\n",
       " ('android', 0.9986871480941772),\n",
       " ('upgraded', 0.9952649474143982),\n",
       " ('content', 0.9902476668357849),\n",
       " ('parallel', 0.987636387348175),\n",
       " ('cheaper', 0.9862022399902344),\n",
       " ('internet', 0.9858311414718628),\n",
       " ('xcloud', 0.9854042530059814),\n",
       " ('ecg', 0.9849103093147278),\n",
       " ('include', 0.9845090508460999)]"
      ]
     },
     "execution_count": 28,
     "metadata": {},
     "output_type": "execute_result"
    }
   ],
   "source": [
    "cbow_model.most_similar(\"phone\")"
   ]
  },
  {
   "cell_type": "code",
   "execution_count": 23,
   "metadata": {},
   "outputs": [
    {
     "data": {
      "text/plain": [
       "[('xstream', 0.9962033629417419),\n",
       " ('cheese', 0.9937506914138794),\n",
       " ('marine', 0.9927660226821899),\n",
       " ('plastic', 0.9925734996795654),\n",
       " ('optic', 0.991940975189209)]"
      ]
     },
     "execution_count": 23,
     "metadata": {},
     "output_type": "execute_result"
    }
   ],
   "source": [
    "cbow_model.wv.most_similar(positive=\"tech\",topn=5)"
   ]
  },
  {
   "cell_type": "code",
   "execution_count": 33,
   "metadata": {},
   "outputs": [
    {
     "data": {
      "text/plain": [
       "(17623842, 18492420)"
      ]
     },
     "execution_count": 33,
     "metadata": {},
     "output_type": "execute_result"
    }
   ],
   "source": [
    "cbow_model= Word2Vec(corpus.title, size=10, min_count=2, window=2, alpha=0.005)\n",
    "cbow_model.train(corpus.title, total_examples=len(corpus.title), epochs=20)"
   ]
  },
  {
   "cell_type": "code",
   "execution_count": 34,
   "metadata": {},
   "outputs": [
    {
     "data": {
      "text/plain": [
       "[('apps', 0.9723376631736755),\n",
       " ('iphone', 0.968980610370636),\n",
       " ('android', 0.9649627208709717),\n",
       " ('feature', 0.9615161418914795),\n",
       " ('io', 0.9581089019775391),\n",
       " ('apple', 0.9544820785522461),\n",
       " ('nokia', 0.9525927305221558),\n",
       " ('unveils', 0.9463881850242615),\n",
       " ('chrome', 0.9462530016899109),\n",
       " ('app', 0.9457876682281494)]"
      ]
     },
     "execution_count": 34,
     "metadata": {},
     "output_type": "execute_result"
    }
   ],
   "source": [
    "cbow_model.most_similar(\"phone\")"
   ]
  },
  {
   "cell_type": "code",
   "execution_count": 45,
   "metadata": {},
   "outputs": [
    {
     "data": {
      "text/plain": [
       "[('country', 0.9843270778656006),\n",
       " ('thunderstorm', 0.9771208763122559),\n",
       " ('area', 0.9692520499229431),\n",
       " ('temperature', 0.9638366103172302),\n",
       " ('largest', 0.9625722169876099)]"
      ]
     },
     "execution_count": 45,
     "metadata": {},
     "output_type": "execute_result"
    }
   ],
   "source": [
    "cbow_model.wv.most_similar(positive=\"rain\",topn=5)"
   ]
  },
  {
   "cell_type": "code",
   "execution_count": 46,
   "metadata": {},
   "outputs": [
    {
     "data": {
      "text/plain": [
       "0.24463597"
      ]
     },
     "execution_count": 46,
     "metadata": {},
     "output_type": "execute_result"
    }
   ],
   "source": [
    "cbow_model.similarity('phone','meteor')"
   ]
  },
  {
   "cell_type": "code",
   "execution_count": 47,
   "metadata": {},
   "outputs": [],
   "source": [
    "#i'm saving the whole thing for now just in case i need to retrain\n",
    "cbow_model.save('decent_cbow.model')"
   ]
  },
  {
   "cell_type": "markdown",
   "metadata": {},
   "source": [
    "### Skip-Gram"
   ]
  },
  {
   "cell_type": "code",
   "execution_count": 49,
   "metadata": {},
   "outputs": [
    {
     "data": {
      "text/plain": [
       "(16911616, 18492420)"
      ]
     },
     "execution_count": 49,
     "metadata": {},
     "output_type": "execute_result"
    }
   ],
   "source": [
    "skip_model= Word2Vec(corpus.title, sg=1)\n",
    "skip_model.train(corpus.title, total_examples=len(corpus.title), epochs=20)"
   ]
  },
  {
   "cell_type": "code",
   "execution_count": 50,
   "metadata": {},
   "outputs": [
    {
     "data": {
      "text/plain": [
       "[('android', 0.7327057123184204),\n",
       " ('smartphone', 0.7226364612579346),\n",
       " ('smartphones', 0.6805227994918823),\n",
       " ('mobile', 0.6706423759460449),\n",
       " ('qualcomm', 0.65846848487854),\n",
       " ('samsung', 0.6353456974029541),\n",
       " ('oneplus', 0.621649980545044),\n",
       " ('snapdragon', 0.6216216087341309),\n",
       " ('huawei', 0.62026047706604),\n",
       " ('axon', 0.6186046004295349)]"
      ]
     },
     "execution_count": 50,
     "metadata": {},
     "output_type": "execute_result"
    }
   ],
   "source": [
    "skip_model.most_similar(\"phone\")"
   ]
  },
  {
   "cell_type": "code",
   "execution_count": 51,
   "metadata": {},
   "outputs": [
    {
     "data": {
      "text/plain": [
       "[('smartphones', 0.8373992443084717),\n",
       " ('android', 0.805121898651123),\n",
       " ('smartphone', 0.7734361886978149),\n",
       " ('mobile', 0.7719205617904663),\n",
       " ('qualcomm', 0.7585907578468323),\n",
       " ('foldable', 0.7568054795265198),\n",
       " ('nokia', 0.7562271356582642),\n",
       " ('handset', 0.7496894001960754),\n",
       " ('snapdragon', 0.7433872222900391),\n",
       " ('rog', 0.7418987154960632)]"
      ]
     },
     "execution_count": 51,
     "metadata": {},
     "output_type": "execute_result"
    }
   ],
   "source": [
    "skip_model= Word2Vec(corpus.title, sg=1, size=50)\n",
    "skip_model.train(corpus.title, total_examples=len(corpus.title), epochs=20)\n",
    "skip_model.most_similar(\"phone\")"
   ]
  },
  {
   "cell_type": "code",
   "execution_count": 52,
   "metadata": {},
   "outputs": [
    {
     "data": {
      "text/plain": [
       "[('smartphones', 0.8356647491455078),\n",
       " ('android', 0.8088092803955078),\n",
       " ('smartphone', 0.8022580742835999),\n",
       " ('snapdragon', 0.7866570353507996),\n",
       " ('foldable', 0.7632825970649719),\n",
       " ('mobile', 0.7510761618614197),\n",
       " ('cal', 0.7489628791809082),\n",
       " ('qualcomm', 0.7479882836341858),\n",
       " ('dsp', 0.7445710897445679),\n",
       " ('vrr', 0.7396570444107056)]"
      ]
     },
     "execution_count": 52,
     "metadata": {},
     "output_type": "execute_result"
    }
   ],
   "source": [
    "skip_model= Word2Vec(corpus.title, sg=1, size=50, min_count=2)\n",
    "skip_model.train(corpus.title, total_examples=len(corpus.title), epochs=20)\n",
    "skip_model.most_similar(\"phone\")"
   ]
  },
  {
   "cell_type": "code",
   "execution_count": 53,
   "metadata": {},
   "outputs": [
    {
     "data": {
      "text/plain": [
       "[('android', 0.8271772265434265),\n",
       " ('smartphones', 0.7964219450950623),\n",
       " ('smartphone', 0.773986279964447),\n",
       " ('samsung', 0.7339814901351929),\n",
       " ('apps', 0.731086015701294),\n",
       " (\"samsung's\", 0.728066623210907),\n",
       " ('oneplus', 0.7279577255249023),\n",
       " ('wearable', 0.7265996932983398),\n",
       " ('stylus', 0.7235832810401917),\n",
       " ('midrange', 0.7217894792556763)]"
      ]
     },
     "execution_count": 53,
     "metadata": {},
     "output_type": "execute_result"
    }
   ],
   "source": [
    "skip_model= Word2Vec(corpus.title, sg=1, size=50, min_count=2, window=2)\n",
    "skip_model.train(corpus.title, total_examples=len(corpus.title), epochs=20)\n",
    "skip_model.most_similar(\"phone\")"
   ]
  },
  {
   "cell_type": "code",
   "execution_count": 54,
   "metadata": {},
   "outputs": [
    {
     "data": {
      "text/plain": [
       "[('android', 0.8061527609825134),\n",
       " ('smartphones', 0.7921007871627808),\n",
       " ('mobile', 0.7693087458610535),\n",
       " ('snapdragon', 0.7648885846138),\n",
       " ('smartphone', 0.7618951201438904),\n",
       " ('foldable', 0.7560170888900757),\n",
       " ('dsp', 0.7547757625579834),\n",
       " ('vrr', 0.7490206360816956),\n",
       " ('oneplus', 0.7483361959457397),\n",
       " ('pricey', 0.7448790073394775)]"
      ]
     },
     "execution_count": 54,
     "metadata": {},
     "output_type": "execute_result"
    }
   ],
   "source": [
    "skip_model= Word2Vec(corpus.title, sg=1, size=50, min_count=2, window=3)\n",
    "skip_model.train(corpus.title, total_examples=len(corpus.title), epochs=20)\n",
    "skip_model.most_similar(\"phone\")"
   ]
  },
  {
   "cell_type": "code",
   "execution_count": 55,
   "metadata": {},
   "outputs": [
    {
     "data": {
      "text/plain": [
       "[('android', 0.8185698390007019),\n",
       " ('smartphones', 0.8171932697296143),\n",
       " ('foldable', 0.7915523052215576),\n",
       " ('smartphone', 0.7801628112792969),\n",
       " ('mobile', 0.7771994471549988),\n",
       " ('qualcomm', 0.7723207473754883),\n",
       " ('snapdragon', 0.7701205611228943),\n",
       " ('cal', 0.7552905082702637),\n",
       " ('rog', 0.7538713812828064),\n",
       " ('removable', 0.7534988522529602)]"
      ]
     },
     "execution_count": 55,
     "metadata": {},
     "output_type": "execute_result"
    }
   ],
   "source": [
    "skip_model= Word2Vec(corpus.title, sg=1, size=50, min_count=2, window=4)\n",
    "skip_model.train(corpus.title, total_examples=len(corpus.title), epochs=20)\n",
    "skip_model.most_similar(\"phone\")"
   ]
  },
  {
   "cell_type": "code",
   "execution_count": 56,
   "metadata": {},
   "outputs": [
    {
     "data": {
      "text/plain": [
       "[('android', 0.8619210124015808),\n",
       " ('smartphones', 0.8495360612869263),\n",
       " ('dsp', 0.8066348433494568),\n",
       " ('qualcomm', 0.8013862371444702),\n",
       " ('smartphone', 0.8007746934890747),\n",
       " ('snapdragon', 0.7920383214950562),\n",
       " ('handset', 0.787638783454895),\n",
       " ('oneplus', 0.7784186601638794),\n",
       " ('foldable', 0.7762075662612915),\n",
       " ('nokia', 0.7737550735473633)]"
      ]
     },
     "execution_count": 56,
     "metadata": {},
     "output_type": "execute_result"
    }
   ],
   "source": [
    "skip_model= Word2Vec(corpus.title, sg=1, size=40, min_count=2)\n",
    "skip_model.train(corpus.title, total_examples=len(corpus.title), epochs=20)\n",
    "skip_model.most_similar(\"phone\")"
   ]
  },
  {
   "cell_type": "code",
   "execution_count": 57,
   "metadata": {},
   "outputs": [
    {
     "data": {
      "text/plain": [
       "[('smartphones', 0.9000354409217834),\n",
       " ('smartphone', 0.8800143003463745),\n",
       " ('android', 0.8718509674072266),\n",
       " ('dsp', 0.8603364825248718),\n",
       " ('altzlife', 0.8558120131492615),\n",
       " ('nokia', 0.853026807308197),\n",
       " ('qualcomm', 0.8472353219985962),\n",
       " ('samsung', 0.8448466062545776),\n",
       " ('pixel', 0.8415809273719788),\n",
       " ('handset', 0.8410998582839966)]"
      ]
     },
     "execution_count": 57,
     "metadata": {},
     "output_type": "execute_result"
    }
   ],
   "source": [
    "skip_model= Word2Vec(corpus.title, sg=1, size=30, min_count=2)\n",
    "skip_model.train(corpus.title, total_examples=len(corpus.title), epochs=20)\n",
    "skip_model.most_similar(\"phone\")"
   ]
  },
  {
   "cell_type": "code",
   "execution_count": 58,
   "metadata": {},
   "outputs": [
    {
     "data": {
      "text/plain": [
       "[('qualcomm', 0.892565906047821),\n",
       " ('pixel', 0.8905010223388672),\n",
       " ('smartphone', 0.8892290592193604),\n",
       " ('snapdragon', 0.8871335387229919),\n",
       " ('gmail', 0.8795095086097717),\n",
       " ('android', 0.8766889572143555),\n",
       " ('nokia', 0.8732967972755432),\n",
       " ('achilles', 0.8689762353897095),\n",
       " ('gadget', 0.8684418201446533),\n",
       " ('handset', 0.8678849339485168)]"
      ]
     },
     "execution_count": 58,
     "metadata": {},
     "output_type": "execute_result"
    }
   ],
   "source": [
    "skip_model= Word2Vec(corpus.title, sg=1, size=30, min_count=2, alpha=0.005)\n",
    "skip_model.train(corpus.title, total_examples=len(corpus.title), epochs=20)\n",
    "skip_model.most_similar(\"phone\")"
   ]
  },
  {
   "cell_type": "code",
   "execution_count": 59,
   "metadata": {},
   "outputs": [
    {
     "data": {
      "text/plain": [
       "[('android', 0.9311205148696899),\n",
       " ('smartphone', 0.930152416229248),\n",
       " ('smartphones', 0.9230425953865051),\n",
       " ('gmail', 0.9167789816856384),\n",
       " ('snapdragon', 0.9108394384384155),\n",
       " ('achilles', 0.910788893699646),\n",
       " ('qualcomm', 0.9099057912826538),\n",
       " ('pixel', 0.9082645773887634),\n",
       " ('samsung', 0.9082576632499695),\n",
       " ('nokia', 0.906872570514679)]"
      ]
     },
     "execution_count": 59,
     "metadata": {},
     "output_type": "execute_result"
    }
   ],
   "source": [
    "skip_model= Word2Vec(corpus.title, sg=1, size=20, min_count=2, alpha=0.005)\n",
    "skip_model.train(corpus.title, total_examples=len(corpus.title), epochs=20)\n",
    "skip_model.most_similar(\"phone\")"
   ]
  },
  {
   "cell_type": "code",
   "execution_count": 61,
   "metadata": {},
   "outputs": [
    {
     "data": {
      "text/plain": [
       "[('achilles', 0.9563428163528442),\n",
       " ('android', 0.9560943841934204),\n",
       " ('gadget', 0.9556223750114441),\n",
       " ('flaw', 0.9552171230316162),\n",
       " ('smartphone', 0.9550544619560242),\n",
       " ('flagship', 0.9523184299468994),\n",
       " ('tablet', 0.9504671096801758),\n",
       " ('iphone', 0.9492576122283936),\n",
       " ('gmail', 0.9483956098556519),\n",
       " ('smartphones', 0.9483415484428406)]"
      ]
     },
     "execution_count": 61,
     "metadata": {},
     "output_type": "execute_result"
    }
   ],
   "source": [
    "skip_model= Word2Vec(corpus.title, sg=1, size=10, min_count=2, alpha=0.005)\n",
    "skip_model.train(corpus.title, total_examples=len(corpus.title), epochs=20)\n",
    "skip_model.most_similar(\"phone\")"
   ]
  },
  {
   "cell_type": "code",
   "execution_count": 62,
   "metadata": {},
   "outputs": [
    {
     "data": {
      "text/plain": [
       "[('tornado', 0.972477912902832),\n",
       " ('flooding', 0.9565954804420471),\n",
       " ('recorded', 0.9557629823684692),\n",
       " ('overnight', 0.9525306224822998),\n",
       " ('fatality', 0.9473415017127991)]"
      ]
     },
     "execution_count": 62,
     "metadata": {},
     "output_type": "execute_result"
    }
   ],
   "source": [
    "skip_model.wv.most_similar(positive=\"rain\",topn=5)"
   ]
  },
  {
   "cell_type": "code",
   "execution_count": 63,
   "metadata": {},
   "outputs": [
    {
     "data": {
      "text/plain": [
       "0.58668965"
      ]
     },
     "execution_count": 63,
     "metadata": {},
     "output_type": "execute_result"
    }
   ],
   "source": [
    "skip_model.similarity('phone','meteor')"
   ]
  },
  {
   "cell_type": "code",
   "execution_count": 64,
   "metadata": {},
   "outputs": [
    {
     "data": {
      "text/plain": [
       "[('android', 0.9340760707855225),\n",
       " ('smartphones', 0.9209192991256714),\n",
       " ('gmail', 0.9206162095069885),\n",
       " ('smartphone', 0.920419454574585),\n",
       " ('qualcomm', 0.9128236770629883),\n",
       " ('snapdragon', 0.9104718565940857),\n",
       " ('achilles', 0.909115195274353),\n",
       " ('rolling', 0.9010049104690552),\n",
       " ('tablet', 0.8996930122375488),\n",
       " ('handset', 0.8996843695640564)]"
      ]
     },
     "execution_count": 64,
     "metadata": {},
     "output_type": "execute_result"
    }
   ],
   "source": [
    "skip_model= Word2Vec(corpus.title, sg=1, size=20, min_count=2, alpha=0.005)\n",
    "skip_model.train(corpus.title, total_examples=len(corpus.title), epochs=20)\n",
    "skip_model.most_similar(\"phone\")"
   ]
  },
  {
   "cell_type": "code",
   "execution_count": 65,
   "metadata": {},
   "outputs": [
    {
     "data": {
      "text/plain": [
       "[('flooding', 0.945341944694519),\n",
       " ('thunderstorm', 0.9417746067047119),\n",
       " ('weather', 0.9193456768989563),\n",
       " ('karachi', 0.9133889675140381),\n",
       " ('isaias', 0.9068201780319214)]"
      ]
     },
     "execution_count": 65,
     "metadata": {},
     "output_type": "execute_result"
    }
   ],
   "source": [
    "skip_model.wv.most_similar(positive=\"rain\",topn=5)\n"
   ]
  },
  {
   "cell_type": "code",
   "execution_count": 66,
   "metadata": {},
   "outputs": [
    {
     "data": {
      "text/plain": [
       "0.53411216"
      ]
     },
     "execution_count": 66,
     "metadata": {},
     "output_type": "execute_result"
    }
   ],
   "source": [
    "skip_model.similarity('phone','meteor')"
   ]
  },
  {
   "cell_type": "code",
   "execution_count": 67,
   "metadata": {},
   "outputs": [],
   "source": [
    "skip_model.save(\"skipgram.model\")"
   ]
  },
  {
   "cell_type": "code",
   "execution_count": null,
   "metadata": {},
   "outputs": [],
   "source": []
  }
 ],
 "metadata": {
  "interpreter": {
   "hash": "4ba33acf19d6f8950a82f714c4929bec5c0642f06f1336034ea15f517b72499a"
  },
  "kernelspec": {
   "display_name": "Python 3.8.5 ('learn-env')",
   "language": "python",
   "name": "python3"
  },
  "language_info": {
   "codemirror_mode": {
    "name": "ipython",
    "version": 3
   },
   "file_extension": ".py",
   "mimetype": "text/x-python",
   "name": "python",
   "nbconvert_exporter": "python",
   "pygments_lexer": "ipython3",
   "version": "3.8.5"
  },
  "orig_nbformat": 4
 },
 "nbformat": 4,
 "nbformat_minor": 2
}
