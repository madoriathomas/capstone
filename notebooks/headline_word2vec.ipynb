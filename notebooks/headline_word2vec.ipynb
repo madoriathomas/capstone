{
 "cells": [
  {
   "cell_type": "markdown",
   "metadata": {},
   "source": [
    "# Headline Word2Vec"
   ]
  },
  {
   "cell_type": "markdown",
   "metadata": {},
   "source": [
    "For this notebook, I am instatiating two Word2Vec models, but I don't plan to use them for my final model. Just trying to get an understanding of how it works. "
   ]
  },
  {
   "cell_type": "code",
   "execution_count": 1,
   "metadata": {},
   "outputs": [],
   "source": [
    "import pandas as pd\n",
    "import numpy as np \n",
    "import matplotlib.pyplot as plt\n",
    "%matplotlib inline\n",
    "\n",
    "import nltk\n",
    "from nltk.corpus import stopwords, wordnet\n",
    "from imblearn.pipeline import Pipeline as ImPipeline\n",
    "from sklearn.pipeline import Pipeline\n",
    "from sklearn.feature_extraction.text import TfidfVectorizer, CountVectorizer\n",
    "from sklearn.inspection import permutation_importance\n",
    "from sklearn.model_selection import train_test_split, GridSearchCV\n",
    "from nltk.stem import WordNetLemmatizer\n",
    "from sklearn.metrics import accuracy_score, precision_score, recall_score, plot_confusion_matrix \n",
    "import string\n",
    "import re\n",
    "from sklearn.metrics import ConfusionMatrixDisplay"
   ]
  },
  {
   "cell_type": "code",
   "execution_count": 2,
   "metadata": {},
   "outputs": [],
   "source": [
    "import warnings\n",
    "warnings.filterwarnings('ignore')"
   ]
  },
  {
   "cell_type": "code",
   "execution_count": 3,
   "metadata": {},
   "outputs": [
    {
     "data": {
      "text/html": [
       "<div>\n",
       "<style scoped>\n",
       "    .dataframe tbody tr th:only-of-type {\n",
       "        vertical-align: middle;\n",
       "    }\n",
       "\n",
       "    .dataframe tbody tr th {\n",
       "        vertical-align: top;\n",
       "    }\n",
       "\n",
       "    .dataframe thead th {\n",
       "        text-align: right;\n",
       "    }\n",
       "</style>\n",
       "<table border=\"1\" class=\"dataframe\">\n",
       "  <thead>\n",
       "    <tr style=\"text-align: right;\">\n",
       "      <th></th>\n",
       "      <th>topic</th>\n",
       "      <th>link</th>\n",
       "      <th>domain</th>\n",
       "      <th>published_date</th>\n",
       "      <th>title</th>\n",
       "      <th>lang</th>\n",
       "    </tr>\n",
       "  </thead>\n",
       "  <tbody>\n",
       "    <tr>\n",
       "      <th>0</th>\n",
       "      <td>SCIENCE</td>\n",
       "      <td>https://www.eurekalert.org/pub_releases/2020-0...</td>\n",
       "      <td>eurekalert.org</td>\n",
       "      <td>2020-08-06 13:59:45</td>\n",
       "      <td>A closer look at water-splitting's solar fuel ...</td>\n",
       "      <td>en</td>\n",
       "    </tr>\n",
       "    <tr>\n",
       "      <th>1</th>\n",
       "      <td>SCIENCE</td>\n",
       "      <td>https://www.pulse.ng/news/world/an-irresistibl...</td>\n",
       "      <td>pulse.ng</td>\n",
       "      <td>2020-08-12 15:14:19</td>\n",
       "      <td>An irresistible scent makes locusts swarm, stu...</td>\n",
       "      <td>en</td>\n",
       "    </tr>\n",
       "    <tr>\n",
       "      <th>2</th>\n",
       "      <td>SCIENCE</td>\n",
       "      <td>https://www.express.co.uk/news/science/1322607...</td>\n",
       "      <td>express.co.uk</td>\n",
       "      <td>2020-08-13 21:01:00</td>\n",
       "      <td>Artificial intelligence warning: AI will know ...</td>\n",
       "      <td>en</td>\n",
       "    </tr>\n",
       "    <tr>\n",
       "      <th>3</th>\n",
       "      <td>SCIENCE</td>\n",
       "      <td>https://www.ndtv.com/world-news/glaciers-could...</td>\n",
       "      <td>ndtv.com</td>\n",
       "      <td>2020-08-03 22:18:26</td>\n",
       "      <td>Glaciers Could Have Sculpted Mars Valleys: Study</td>\n",
       "      <td>en</td>\n",
       "    </tr>\n",
       "    <tr>\n",
       "      <th>4</th>\n",
       "      <td>SCIENCE</td>\n",
       "      <td>https://www.thesun.ie/tech/5742187/perseid-met...</td>\n",
       "      <td>thesun.ie</td>\n",
       "      <td>2020-08-12 19:54:36</td>\n",
       "      <td>Perseid meteor shower 2020: What time and how ...</td>\n",
       "      <td>en</td>\n",
       "    </tr>\n",
       "  </tbody>\n",
       "</table>\n",
       "</div>"
      ],
      "text/plain": [
       "     topic                                               link          domain  \\\n",
       "0  SCIENCE  https://www.eurekalert.org/pub_releases/2020-0...  eurekalert.org   \n",
       "1  SCIENCE  https://www.pulse.ng/news/world/an-irresistibl...        pulse.ng   \n",
       "2  SCIENCE  https://www.express.co.uk/news/science/1322607...   express.co.uk   \n",
       "3  SCIENCE  https://www.ndtv.com/world-news/glaciers-could...        ndtv.com   \n",
       "4  SCIENCE  https://www.thesun.ie/tech/5742187/perseid-met...       thesun.ie   \n",
       "\n",
       "        published_date                                              title lang  \n",
       "0  2020-08-06 13:59:45  A closer look at water-splitting's solar fuel ...   en  \n",
       "1  2020-08-12 15:14:19  An irresistible scent makes locusts swarm, stu...   en  \n",
       "2  2020-08-13 21:01:00  Artificial intelligence warning: AI will know ...   en  \n",
       "3  2020-08-03 22:18:26   Glaciers Could Have Sculpted Mars Valleys: Study   en  \n",
       "4  2020-08-12 19:54:36  Perseid meteor shower 2020: What time and how ...   en  "
      ]
     },
     "execution_count": 3,
     "metadata": {},
     "output_type": "execute_result"
    }
   ],
   "source": [
    "df = pd.read_csv('../data/labeled_newscatcher_dataset.csv', sep=\";\")\n",
    "df.head()"
   ]
  },
  {
   "cell_type": "code",
   "execution_count": 4,
   "metadata": {},
   "outputs": [
    {
     "data": {
      "text/html": [
       "<div>\n",
       "<style scoped>\n",
       "    .dataframe tbody tr th:only-of-type {\n",
       "        vertical-align: middle;\n",
       "    }\n",
       "\n",
       "    .dataframe tbody tr th {\n",
       "        vertical-align: top;\n",
       "    }\n",
       "\n",
       "    .dataframe thead th {\n",
       "        text-align: right;\n",
       "    }\n",
       "</style>\n",
       "<table border=\"1\" class=\"dataframe\">\n",
       "  <thead>\n",
       "    <tr style=\"text-align: right;\">\n",
       "      <th></th>\n",
       "      <th>topic</th>\n",
       "      <th>link</th>\n",
       "      <th>domain</th>\n",
       "      <th>published_date</th>\n",
       "      <th>title</th>\n",
       "      <th>lang</th>\n",
       "    </tr>\n",
       "  </thead>\n",
       "  <tbody>\n",
       "    <tr>\n",
       "      <th>0</th>\n",
       "      <td>BEAUTY</td>\n",
       "      <td>https://www.politico.com/newsletters/politico-...</td>\n",
       "      <td>politico.com</td>\n",
       "      <td>2022-03-08 15:45:00</td>\n",
       "      <td>Moderna eases up on vaccine patent protections</td>\n",
       "      <td>en</td>\n",
       "    </tr>\n",
       "    <tr>\n",
       "      <th>1</th>\n",
       "      <td>BEAUTY</td>\n",
       "      <td>https://stylecaster.com/queen-elizabeth-lilibet</td>\n",
       "      <td>stylecaster.com</td>\n",
       "      <td>2022-03-08 15:10:14</td>\n",
       "      <td>The Queen ‘Desperately' Wants to Meet Lilibet—...</td>\n",
       "      <td>en</td>\n",
       "    </tr>\n",
       "    <tr>\n",
       "      <th>2</th>\n",
       "      <td>BEAUTY</td>\n",
       "      <td>https://stylecaster.com/kim-kardashian-kanye-p...</td>\n",
       "      <td>stylecaster.com</td>\n",
       "      <td>2022-03-08 14:45:04</td>\n",
       "      <td>Here's What Kim Really Thinks of Kanye's ‘Dist...</td>\n",
       "      <td>en</td>\n",
       "    </tr>\n",
       "    <tr>\n",
       "      <th>3</th>\n",
       "      <td>BEAUTY</td>\n",
       "      <td>https://www.complex.com/style/novesta-ss22</td>\n",
       "      <td>complex.com</td>\n",
       "      <td>2022-03-08 14:44:22</td>\n",
       "      <td>Novesta Unveils Colourful Spring/Summer 2022 F...</td>\n",
       "      <td>en</td>\n",
       "    </tr>\n",
       "    <tr>\n",
       "      <th>4</th>\n",
       "      <td>BEAUTY</td>\n",
       "      <td>https://www.qatarliving.com/forum/fashion/ladi...</td>\n",
       "      <td>qatarliving.com</td>\n",
       "      <td>2022-03-08 13:50:35</td>\n",
       "      <td>Ladies! Dress up with the Perfect Dresses from...</td>\n",
       "      <td>en</td>\n",
       "    </tr>\n",
       "  </tbody>\n",
       "</table>\n",
       "</div>"
      ],
      "text/plain": [
       "    topic                                               link           domain  \\\n",
       "0  BEAUTY  https://www.politico.com/newsletters/politico-...     politico.com   \n",
       "1  BEAUTY    https://stylecaster.com/queen-elizabeth-lilibet  stylecaster.com   \n",
       "2  BEAUTY  https://stylecaster.com/kim-kardashian-kanye-p...  stylecaster.com   \n",
       "3  BEAUTY         https://www.complex.com/style/novesta-ss22      complex.com   \n",
       "4  BEAUTY  https://www.qatarliving.com/forum/fashion/ladi...  qatarliving.com   \n",
       "\n",
       "        published_date                                              title lang  \n",
       "0  2022-03-08 15:45:00     Moderna eases up on vaccine patent protections   en  \n",
       "1  2022-03-08 15:10:14  The Queen ‘Desperately' Wants to Meet Lilibet—...   en  \n",
       "2  2022-03-08 14:45:04  Here's What Kim Really Thinks of Kanye's ‘Dist...   en  \n",
       "3  2022-03-08 14:44:22  Novesta Unveils Colourful Spring/Summer 2022 F...   en  \n",
       "4  2022-03-08 13:50:35  Ladies! Dress up with the Perfect Dresses from...   en  "
      ]
     },
     "execution_count": 4,
     "metadata": {},
     "output_type": "execute_result"
    }
   ],
   "source": [
    "df2 = pd.read_csv('../data/scrape_news_articles.csv', sep=\";\", index_col=[0])\n",
    "df2.head()"
   ]
  },
  {
   "cell_type": "code",
   "execution_count": 5,
   "metadata": {},
   "outputs": [
    {
     "data": {
      "text/html": [
       "<div>\n",
       "<style scoped>\n",
       "    .dataframe tbody tr th:only-of-type {\n",
       "        vertical-align: middle;\n",
       "    }\n",
       "\n",
       "    .dataframe tbody tr th {\n",
       "        vertical-align: top;\n",
       "    }\n",
       "\n",
       "    .dataframe thead th {\n",
       "        text-align: right;\n",
       "    }\n",
       "</style>\n",
       "<table border=\"1\" class=\"dataframe\">\n",
       "  <thead>\n",
       "    <tr style=\"text-align: right;\">\n",
       "      <th></th>\n",
       "      <th>topic</th>\n",
       "      <th>link</th>\n",
       "      <th>domain</th>\n",
       "      <th>published_date</th>\n",
       "      <th>title</th>\n",
       "      <th>lang</th>\n",
       "    </tr>\n",
       "  </thead>\n",
       "  <tbody>\n",
       "    <tr>\n",
       "      <th>0</th>\n",
       "      <td>SCIENCE</td>\n",
       "      <td>https://www.eurekalert.org/pub_releases/2020-0...</td>\n",
       "      <td>eurekalert.org</td>\n",
       "      <td>2020-08-06 13:59:45</td>\n",
       "      <td>A closer look at water-splitting's solar fuel ...</td>\n",
       "      <td>en</td>\n",
       "    </tr>\n",
       "    <tr>\n",
       "      <th>1</th>\n",
       "      <td>SCIENCE</td>\n",
       "      <td>https://www.pulse.ng/news/world/an-irresistibl...</td>\n",
       "      <td>pulse.ng</td>\n",
       "      <td>2020-08-12 15:14:19</td>\n",
       "      <td>An irresistible scent makes locusts swarm, stu...</td>\n",
       "      <td>en</td>\n",
       "    </tr>\n",
       "    <tr>\n",
       "      <th>2</th>\n",
       "      <td>SCIENCE</td>\n",
       "      <td>https://www.express.co.uk/news/science/1322607...</td>\n",
       "      <td>express.co.uk</td>\n",
       "      <td>2020-08-13 21:01:00</td>\n",
       "      <td>Artificial intelligence warning: AI will know ...</td>\n",
       "      <td>en</td>\n",
       "    </tr>\n",
       "    <tr>\n",
       "      <th>3</th>\n",
       "      <td>SCIENCE</td>\n",
       "      <td>https://www.ndtv.com/world-news/glaciers-could...</td>\n",
       "      <td>ndtv.com</td>\n",
       "      <td>2020-08-03 22:18:26</td>\n",
       "      <td>Glaciers Could Have Sculpted Mars Valleys: Study</td>\n",
       "      <td>en</td>\n",
       "    </tr>\n",
       "    <tr>\n",
       "      <th>4</th>\n",
       "      <td>SCIENCE</td>\n",
       "      <td>https://www.thesun.ie/tech/5742187/perseid-met...</td>\n",
       "      <td>thesun.ie</td>\n",
       "      <td>2020-08-12 19:54:36</td>\n",
       "      <td>Perseid meteor shower 2020: What time and how ...</td>\n",
       "      <td>en</td>\n",
       "    </tr>\n",
       "  </tbody>\n",
       "</table>\n",
       "</div>"
      ],
      "text/plain": [
       "     topic                                               link          domain  \\\n",
       "0  SCIENCE  https://www.eurekalert.org/pub_releases/2020-0...  eurekalert.org   \n",
       "1  SCIENCE  https://www.pulse.ng/news/world/an-irresistibl...        pulse.ng   \n",
       "2  SCIENCE  https://www.express.co.uk/news/science/1322607...   express.co.uk   \n",
       "3  SCIENCE  https://www.ndtv.com/world-news/glaciers-could...        ndtv.com   \n",
       "4  SCIENCE  https://www.thesun.ie/tech/5742187/perseid-met...       thesun.ie   \n",
       "\n",
       "        published_date                                              title lang  \n",
       "0  2020-08-06 13:59:45  A closer look at water-splitting's solar fuel ...   en  \n",
       "1  2020-08-12 15:14:19  An irresistible scent makes locusts swarm, stu...   en  \n",
       "2  2020-08-13 21:01:00  Artificial intelligence warning: AI will know ...   en  \n",
       "3  2020-08-03 22:18:26   Glaciers Could Have Sculpted Mars Valleys: Study   en  \n",
       "4  2020-08-12 19:54:36  Perseid meteor shower 2020: What time and how ...   en  "
      ]
     },
     "execution_count": 5,
     "metadata": {},
     "output_type": "execute_result"
    }
   ],
   "source": [
    "corpus = pd.concat([df, df2], ignore_index=True)\n",
    "corpus.head()"
   ]
  },
  {
   "cell_type": "code",
   "execution_count": 6,
   "metadata": {},
   "outputs": [
    {
     "name": "stderr",
     "output_type": "stream",
     "text": [
      "[nltk_data] Downloading package omw-1.4 to\n",
      "[nltk_data]     C:\\Users\\deaud\\AppData\\Roaming\\nltk_data...\n",
      "[nltk_data]   Package omw-1.4 is already up-to-date!\n"
     ]
    },
    {
     "data": {
      "text/plain": [
       "True"
      ]
     },
     "execution_count": 6,
     "metadata": {},
     "output_type": "execute_result"
    }
   ],
   "source": [
    "nltk.download('omw-1.4')"
   ]
  },
  {
   "cell_type": "code",
   "execution_count": 7,
   "metadata": {},
   "outputs": [],
   "source": [
    "# cleaning my test data\n",
    "sw = stopwords.words('english') + list(string.punctuation)\n",
    "\n",
    "corpus.title = [word.lower() for word in corpus.title]\n",
    "pattern = \"([a-zA-Z]+(?:'[a-z]+)?)\"\n",
    "corpus.title = [nltk.regexp_tokenize(line, pattern) for line in corpus.title]\n",
    "lemma = WordNetLemmatizer()\n",
    "corpus.title= [[lemma.lemmatize(word) for word in line] for line in corpus.title]\n",
    "corpus.title = [[word for word in line if word not in sw] for line in corpus.title]"
   ]
  },
  {
   "cell_type": "markdown",
   "metadata": {},
   "source": [
    "## Word2Vec"
   ]
  },
  {
   "cell_type": "markdown",
   "metadata": {},
   "source": [
    "### Continuous Bag of Words (CBOW)"
   ]
  },
  {
   "cell_type": "code",
   "execution_count": 18,
   "metadata": {},
   "outputs": [
    {
     "data": {
      "text/plain": [
       "(21727891, 23588160)"
      ]
     },
     "execution_count": 18,
     "metadata": {},
     "output_type": "execute_result"
    }
   ],
   "source": [
    "from gensim.models import Word2Vec\n",
    "\n",
    "cbow_model= Word2Vec(corpus.title)\n",
    "cbow_model.train(corpus.title, total_examples=len(corpus.title), epochs=20)"
   ]
  },
  {
   "cell_type": "code",
   "execution_count": 19,
   "metadata": {},
   "outputs": [
    {
     "data": {
      "text/plain": [
       "[('smartphone', 0.6666989922523499),\n",
       " ('smartphones', 0.6441646814346313),\n",
       " ('gmail', 0.5499178767204285),\n",
       " ('android', 0.5434715747833252),\n",
       " ('laptop', 0.534205436706543),\n",
       " ('handset', 0.5260448455810547),\n",
       " ('qualcomm', 0.5201058983802795),\n",
       " ('nord', 0.5150251388549805),\n",
       " ('lte', 0.5147441625595093),\n",
       " ('mobile', 0.5103725790977478)]"
      ]
     },
     "execution_count": 19,
     "metadata": {},
     "output_type": "execute_result"
    }
   ],
   "source": [
    "cbow_model.wv.most_similar(\"phone\")"
   ]
  },
  {
   "cell_type": "code",
   "execution_count": 20,
   "metadata": {},
   "outputs": [
    {
     "data": {
      "text/plain": [
       "(22584308, 23588160)"
      ]
     },
     "execution_count": 20,
     "metadata": {},
     "output_type": "execute_result"
    }
   ],
   "source": [
    "cbow_model= Word2Vec(corpus.title, vector_size=50, min_count=2, window=3)\n",
    "cbow_model.train(corpus.title, total_examples=len(corpus.title), epochs=20)"
   ]
  },
  {
   "cell_type": "code",
   "execution_count": 21,
   "metadata": {},
   "outputs": [
    {
     "data": {
      "text/plain": [
       "[('smartphone', 0.7068692445755005),\n",
       " ('smartphones', 0.6994327306747437),\n",
       " ('apps', 0.6779199242591858),\n",
       " ('android', 0.6700101494789124),\n",
       " ('nord', 0.622630774974823),\n",
       " ('nokia', 0.6171594858169556),\n",
       " ('lte', 0.6152294874191284),\n",
       " ('oneplus', 0.6097477078437805),\n",
       " ('snapdragon', 0.6058156490325928),\n",
       " ('gmail', 0.6033675074577332)]"
      ]
     },
     "execution_count": 21,
     "metadata": {},
     "output_type": "execute_result"
    }
   ],
   "source": [
    "cbow_model.wv.most_similar(\"phone\")"
   ]
  },
  {
   "cell_type": "code",
   "execution_count": 23,
   "metadata": {},
   "outputs": [
    {
     "data": {
      "text/plain": [
       "(21961214, 23588160)"
      ]
     },
     "execution_count": 23,
     "metadata": {},
     "output_type": "execute_result"
    }
   ],
   "source": [
    "cbow_model= Word2Vec(corpus.title, vector_size=50, min_count=4, window=3)\n",
    "cbow_model.train(corpus.title, total_examples=len(corpus.title), epochs=20)"
   ]
  },
  {
   "cell_type": "code",
   "execution_count": 24,
   "metadata": {},
   "outputs": [
    {
     "data": {
      "text/plain": [
       "[('smartphone', 0.7119123339653015),\n",
       " ('smartphones', 0.7074189782142639),\n",
       " ('android', 0.6493915319442749),\n",
       " ('nokia', 0.6452564597129822),\n",
       " ('gmail', 0.6290686130523682),\n",
       " ('oneplus', 0.6285195350646973),\n",
       " ('apps', 0.6153964400291443),\n",
       " ('samsung', 0.5960041284561157),\n",
       " ('snapdragon', 0.5931641459465027),\n",
       " ('foldable', 0.5928024053573608)]"
      ]
     },
     "execution_count": 24,
     "metadata": {},
     "output_type": "execute_result"
    }
   ],
   "source": [
    "cbow_model.wv.most_similar(\"phone\")"
   ]
  },
  {
   "cell_type": "code",
   "execution_count": 25,
   "metadata": {},
   "outputs": [
    {
     "data": {
      "text/plain": [
       "(22585230, 23588160)"
      ]
     },
     "execution_count": 25,
     "metadata": {},
     "output_type": "execute_result"
    }
   ],
   "source": [
    "cbow_model= Word2Vec(corpus.title, vector_size=50, min_count=2, window=4)\n",
    "cbow_model.train(corpus.title, total_examples=len(corpus.title), epochs=20)"
   ]
  },
  {
   "cell_type": "code",
   "execution_count": 26,
   "metadata": {},
   "outputs": [
    {
     "data": {
      "text/plain": [
       "[('smartphones', 0.7083776593208313),\n",
       " ('smartphone', 0.6987574696540833),\n",
       " ('android', 0.6955434679985046),\n",
       " ('mobile', 0.6585747003555298),\n",
       " ('gmail', 0.6514365077018738),\n",
       " ('user', 0.6341714859008789),\n",
       " ('apps', 0.6273295283317566),\n",
       " ('malware', 0.6259533762931824),\n",
       " (\"google's\", 0.6248986124992371),\n",
       " ('lte', 0.6179178953170776)]"
      ]
     },
     "execution_count": 26,
     "metadata": {},
     "output_type": "execute_result"
    }
   ],
   "source": [
    "cbow_model.wv.most_similar(\"phone\")"
   ]
  },
  {
   "cell_type": "code",
   "execution_count": 27,
   "metadata": {},
   "outputs": [
    {
     "data": {
      "text/plain": [
       "(22583422, 23588160)"
      ]
     },
     "execution_count": 27,
     "metadata": {},
     "output_type": "execute_result"
    }
   ],
   "source": [
    "cbow_model= Word2Vec(corpus.title, vector_size=40, min_count=2, window=2)\n",
    "cbow_model.train(corpus.title, total_examples=len(corpus.title), epochs=20)"
   ]
  },
  {
   "cell_type": "code",
   "execution_count": 28,
   "metadata": {},
   "outputs": [
    {
     "data": {
      "text/plain": [
       "[('apps', 0.781324565410614),\n",
       " ('smartphones', 0.780327558517456),\n",
       " ('android', 0.7668615579605103),\n",
       " ('smartphone', 0.7590717673301697),\n",
       " ('gamers', 0.7000181674957275),\n",
       " ('device', 0.6812880635261536),\n",
       " ('nord', 0.6759445667266846),\n",
       " ('pin', 0.6703640818595886),\n",
       " (\"samsung's\", 0.6667801737785339),\n",
       " ('foldable', 0.6646199226379395)]"
      ]
     },
     "execution_count": 28,
     "metadata": {},
     "output_type": "execute_result"
    }
   ],
   "source": [
    "cbow_model.wv.most_similar(\"phone\")"
   ]
  },
  {
   "cell_type": "code",
   "execution_count": 29,
   "metadata": {},
   "outputs": [
    {
     "data": {
      "text/plain": [
       "(22583966, 23588160)"
      ]
     },
     "execution_count": 29,
     "metadata": {},
     "output_type": "execute_result"
    }
   ],
   "source": [
    "cbow_model= Word2Vec(corpus.title, vector_size=30, min_count=2, window=2)\n",
    "cbow_model.train(corpus.title, total_examples=len(corpus.title), epochs=20)"
   ]
  },
  {
   "cell_type": "code",
   "execution_count": 30,
   "metadata": {},
   "outputs": [
    {
     "data": {
      "text/plain": [
       "[('android', 0.8016839623451233),\n",
       " ('apps', 0.7938687205314636),\n",
       " ('smartphones', 0.7737550139427185),\n",
       " ('smartphone', 0.7488154172897339),\n",
       " ('gamers', 0.7452980279922485),\n",
       " ('tablet', 0.7114000916481018),\n",
       " ('gmail', 0.707675039768219),\n",
       " ('device', 0.7053384184837341),\n",
       " ('user', 0.6988659501075745),\n",
       " ('io', 0.6952767372131348)]"
      ]
     },
     "execution_count": 30,
     "metadata": {},
     "output_type": "execute_result"
    }
   ],
   "source": [
    "cbow_model.wv.most_similar(\"phone\")"
   ]
  },
  {
   "cell_type": "code",
   "execution_count": 31,
   "metadata": {},
   "outputs": [
    {
     "data": {
      "text/plain": [
       "(22584586, 23588160)"
      ]
     },
     "execution_count": 31,
     "metadata": {},
     "output_type": "execute_result"
    }
   ],
   "source": [
    "cbow_model= Word2Vec(corpus.title, vector_size=20, min_count=2, window=2)\n",
    "cbow_model.train(corpus.title, total_examples=len(corpus.title), epochs=20)"
   ]
  },
  {
   "cell_type": "code",
   "execution_count": 32,
   "metadata": {},
   "outputs": [
    {
     "data": {
      "text/plain": [
       "[('android', 0.8948840498924255),\n",
       " ('smartphone', 0.8523215055465698),\n",
       " ('smartphones', 0.8505614399909973),\n",
       " ('samsung', 0.8315171599388123),\n",
       " ('pin', 0.8278328776359558),\n",
       " ('user', 0.8080447912216187),\n",
       " ('gamers', 0.7988781332969666),\n",
       " ('apps', 0.7914980053901672),\n",
       " ('chrome', 0.7909753918647766),\n",
       " ('gmail', 0.7789469957351685)]"
      ]
     },
     "execution_count": 32,
     "metadata": {},
     "output_type": "execute_result"
    }
   ],
   "source": [
    "cbow_model.wv.most_similar(\"phone\")"
   ]
  },
  {
   "cell_type": "code",
   "execution_count": 33,
   "metadata": {},
   "outputs": [
    {
     "data": {
      "text/plain": [
       "(22584748, 23588160)"
      ]
     },
     "execution_count": 33,
     "metadata": {},
     "output_type": "execute_result"
    }
   ],
   "source": [
    "cbow_model= Word2Vec(corpus.title, vector_size=10, min_count=2, window=2)\n",
    "cbow_model.train(corpus.title, total_examples=len(corpus.title), epochs=20)"
   ]
  },
  {
   "cell_type": "code",
   "execution_count": 34,
   "metadata": {},
   "outputs": [
    {
     "data": {
      "text/plain": [
       "[('iphones', 0.9687383770942688),\n",
       " ('bug', 0.9558156728744507),\n",
       " ('flagship', 0.9426276087760925),\n",
       " ('android', 0.9367027282714844),\n",
       " ('apps', 0.9349798560142517),\n",
       " ('macbook', 0.91974937915802),\n",
       " ('redesign', 0.9187734127044678),\n",
       " ('tablet', 0.9159047603607178),\n",
       " ('iphone', 0.9141308069229126),\n",
       " ('smartphones', 0.9132530689239502)]"
      ]
     },
     "execution_count": 34,
     "metadata": {},
     "output_type": "execute_result"
    }
   ],
   "source": [
    "cbow_model.wv.most_similar(\"phone\")"
   ]
  },
  {
   "cell_type": "code",
   "execution_count": 35,
   "metadata": {},
   "outputs": [
    {
     "data": {
      "text/plain": [
       "[('google', 0.9611325860023499),\n",
       " (\"apple's\", 0.9549362063407898),\n",
       " ('direct', 0.9398136138916016),\n",
       " ('microsoft', 0.9220123291015625),\n",
       " ('amazon', 0.9129121899604797)]"
      ]
     },
     "execution_count": 35,
     "metadata": {},
     "output_type": "execute_result"
    }
   ],
   "source": [
    "cbow_model.wv.most_similar(positive=\"apple\",topn=5)"
   ]
  },
  {
   "cell_type": "code",
   "execution_count": 36,
   "metadata": {},
   "outputs": [
    {
     "data": {
      "text/plain": [
       "(22584201, 23588160)"
      ]
     },
     "execution_count": 36,
     "metadata": {},
     "output_type": "execute_result"
    }
   ],
   "source": [
    "cbow_model= Word2Vec(corpus.title, vector_size=5, min_count=2, window=2)\n",
    "cbow_model.train(corpus.title, total_examples=len(corpus.title), epochs=20)"
   ]
  },
  {
   "cell_type": "code",
   "execution_count": 37,
   "metadata": {},
   "outputs": [
    {
     "data": {
      "text/plain": [
       "[('glass', 0.9962368011474609),\n",
       " ('model', 0.994067370891571),\n",
       " ('noise', 0.9936598539352417),\n",
       " ('accessory', 0.9933869242668152),\n",
       " ('android', 0.9931384325027466),\n",
       " ('ingredient', 0.9923892617225647),\n",
       " ('microsoft', 0.9923272728919983),\n",
       " ('clock', 0.9917428493499756),\n",
       " ('io', 0.9911788105964661),\n",
       " ('cheap', 0.9910125732421875)]"
      ]
     },
     "execution_count": 37,
     "metadata": {},
     "output_type": "execute_result"
    }
   ],
   "source": [
    "cbow_model.wv.most_similar(\"phone\")"
   ]
  },
  {
   "cell_type": "code",
   "execution_count": 38,
   "metadata": {},
   "outputs": [
    {
     "data": {
      "text/plain": [
       "[('wral', 0.9993358254432678),\n",
       " ('biopharma', 0.9980018138885498),\n",
       " ('scope', 0.9968476891517639),\n",
       " ('downward', 0.9960850477218628),\n",
       " ('veracyte', 0.9959495067596436)]"
      ]
     },
     "execution_count": 38,
     "metadata": {},
     "output_type": "execute_result"
    }
   ],
   "source": [
    "cbow_model.wv.most_similar(positive=\"tech\",topn=5)"
   ]
  },
  {
   "cell_type": "code",
   "execution_count": 39,
   "metadata": {},
   "outputs": [
    {
     "data": {
      "text/plain": [
       "(22583474, 23588160)"
      ]
     },
     "execution_count": 39,
     "metadata": {},
     "output_type": "execute_result"
    }
   ],
   "source": [
    "cbow_model= Word2Vec(corpus.title, vector_size=10, min_count=2, window=2, alpha=0.005)\n",
    "cbow_model.train(corpus.title, total_examples=len(corpus.title), epochs=20)"
   ]
  },
  {
   "cell_type": "code",
   "execution_count": 40,
   "metadata": {},
   "outputs": [
    {
     "data": {
      "text/plain": [
       "[('ahepa', 0.9764924049377441),\n",
       " ('iphone', 0.9724928140640259),\n",
       " ('p', 0.969786524772644),\n",
       " ('android', 0.9671738147735596),\n",
       " ('smartphones', 0.9595897793769836),\n",
       " ('flagship', 0.9520423412322998),\n",
       " ('controller', 0.9514220952987671),\n",
       " ('window', 0.9469561576843262),\n",
       " ('version', 0.9420189261436462),\n",
       " (\"survivor's\", 0.9416032433509827)]"
      ]
     },
     "execution_count": 40,
     "metadata": {},
     "output_type": "execute_result"
    }
   ],
   "source": [
    "cbow_model.wv.most_similar(\"phone\")"
   ]
  },
  {
   "cell_type": "code",
   "execution_count": 41,
   "metadata": {},
   "outputs": [
    {
     "data": {
      "text/plain": [
       "[('fredericton', 0.9710844159126282),\n",
       " ('temperature', 0.9709977507591248),\n",
       " ('europe', 0.9672083258628845),\n",
       " ('rate', 0.9606303572654724),\n",
       " ('alarm', 0.9552730321884155)]"
      ]
     },
     "execution_count": 41,
     "metadata": {},
     "output_type": "execute_result"
    }
   ],
   "source": [
    "cbow_model.wv.most_similar(positive=\"rain\",topn=5)"
   ]
  },
  {
   "cell_type": "code",
   "execution_count": 42,
   "metadata": {},
   "outputs": [
    {
     "data": {
      "text/plain": [
       "0.38735545"
      ]
     },
     "execution_count": 42,
     "metadata": {},
     "output_type": "execute_result"
    }
   ],
   "source": [
    "cbow_model.wv.similarity('phone','meteor')"
   ]
  },
  {
   "cell_type": "code",
   "execution_count": 44,
   "metadata": {},
   "outputs": [],
   "source": [
    "#i'm saving the whole thing for now just in case i need to retrain\n",
    "cbow_model.save('cbow.model')"
   ]
  },
  {
   "cell_type": "markdown",
   "metadata": {},
   "source": [
    "### Skip-Gram"
   ]
  },
  {
   "cell_type": "code",
   "execution_count": 46,
   "metadata": {},
   "outputs": [
    {
     "data": {
      "text/plain": [
       "(21727204, 23588160)"
      ]
     },
     "execution_count": 46,
     "metadata": {},
     "output_type": "execute_result"
    }
   ],
   "source": [
    "skip_model= Word2Vec(corpus.title, sg=1)\n",
    "skip_model.train(corpus.title, total_examples=len(corpus.title), epochs=20)"
   ]
  },
  {
   "cell_type": "code",
   "execution_count": 47,
   "metadata": {},
   "outputs": [
    {
     "data": {
      "text/plain": [
       "[('android', 0.7761050462722778),\n",
       " ('smartphones', 0.698005199432373),\n",
       " ('axon', 0.6612927317619324),\n",
       " ('foldable', 0.6588737964630127),\n",
       " ('qualcomm', 0.6584909558296204),\n",
       " ('snapdragon', 0.6437031626701355),\n",
       " ('lte', 0.6431047320365906),\n",
       " ('stylus', 0.6357678771018982),\n",
       " ('smartphone', 0.632291853427887),\n",
       " ('google', 0.6283547878265381)]"
      ]
     },
     "execution_count": 47,
     "metadata": {},
     "output_type": "execute_result"
    }
   ],
   "source": [
    "skip_model.wv.most_similar(\"phone\")"
   ]
  },
  {
   "cell_type": "code",
   "execution_count": 48,
   "metadata": {},
   "outputs": [
    {
     "data": {
      "text/plain": [
       "[('smartphones', 0.8384672403335571),\n",
       " ('smartphone', 0.8342218995094299),\n",
       " ('android', 0.833698034286499),\n",
       " ('snapdragon', 0.7907917499542236),\n",
       " ('qualcomm', 0.7794982194900513),\n",
       " ('foldable', 0.7743945717811584),\n",
       " ('handset', 0.7705978155136108),\n",
       " ('chipset', 0.765535295009613),\n",
       " ('nokia', 0.7594048976898193),\n",
       " ('dsp', 0.7592836618423462)]"
      ]
     },
     "execution_count": 48,
     "metadata": {},
     "output_type": "execute_result"
    }
   ],
   "source": [
    "skip_model= Word2Vec(corpus.title, sg=1, vector_size=50)\n",
    "skip_model.train(corpus.title, total_examples=len(corpus.title), epochs=20)\n",
    "skip_model.wv.most_similar(\"phone\")"
   ]
  },
  {
   "cell_type": "code",
   "execution_count": 49,
   "metadata": {},
   "outputs": [
    {
     "data": {
      "text/plain": [
       "[('smartphones', 0.8648689985275269),\n",
       " ('android', 0.8354758620262146),\n",
       " ('smartphone', 0.8187859654426575),\n",
       " ('snapdragon', 0.7923830151557922),\n",
       " ('oneplus', 0.7889497876167297),\n",
       " ('foldable', 0.7808762192726135),\n",
       " ('qualcomm', 0.7760719656944275),\n",
       " ('downloading', 0.7647323608398438),\n",
       " ('stalkerware', 0.7631919980049133),\n",
       " ('mobile', 0.7627070546150208)]"
      ]
     },
     "execution_count": 49,
     "metadata": {},
     "output_type": "execute_result"
    }
   ],
   "source": [
    "skip_model= Word2Vec(corpus.title, sg=1, vector_size=50, min_count=2)\n",
    "skip_model.train(corpus.title, total_examples=len(corpus.title), epochs=20)\n",
    "skip_model.wv.most_similar(\"phone\")"
   ]
  },
  {
   "cell_type": "code",
   "execution_count": 50,
   "metadata": {},
   "outputs": [
    {
     "data": {
      "text/plain": [
       "[('smartphones', 0.8272982835769653),\n",
       " ('smartphone', 0.8183382153511047),\n",
       " ('android', 0.8006417751312256),\n",
       " ('lte', 0.7776314616203308),\n",
       " ('gmail', 0.7556366324424744),\n",
       " ('midrange', 0.745169997215271),\n",
       " ('foldable', 0.7415573000907898),\n",
       " ('snapdragon', 0.7351503968238831),\n",
       " ('oneplus', 0.7284305691719055),\n",
       " ('nokia', 0.7271036505699158)]"
      ]
     },
     "execution_count": 50,
     "metadata": {},
     "output_type": "execute_result"
    }
   ],
   "source": [
    "skip_model= Word2Vec(corpus.title, sg=1, vector_size=50, min_count=2, window=2)\n",
    "skip_model.train(corpus.title, total_examples=len(corpus.title), epochs=20)\n",
    "skip_model.wv.most_similar(\"phone\")"
   ]
  },
  {
   "cell_type": "code",
   "execution_count": 51,
   "metadata": {},
   "outputs": [
    {
     "data": {
      "text/plain": [
       "[('android', 0.8256362676620483),\n",
       " ('smartphones', 0.7978739738464355),\n",
       " ('lte', 0.7945852875709534),\n",
       " ('gmail', 0.7843851447105408),\n",
       " ('smartphone', 0.7826085686683655),\n",
       " ('apps', 0.7821012735366821),\n",
       " ('oneplus', 0.7796486020088196),\n",
       " ('mobile', 0.761017918586731),\n",
       " ('removable', 0.7566685080528259),\n",
       " ('snapdragon', 0.751564621925354)]"
      ]
     },
     "execution_count": 51,
     "metadata": {},
     "output_type": "execute_result"
    }
   ],
   "source": [
    "skip_model= Word2Vec(corpus.title, sg=1, vector_size=50, min_count=2, window=3)\n",
    "skip_model.train(corpus.title, total_examples=len(corpus.title), epochs=20)\n",
    "skip_model.wv.most_similar(\"phone\")"
   ]
  },
  {
   "cell_type": "code",
   "execution_count": 52,
   "metadata": {},
   "outputs": [
    {
     "data": {
      "text/plain": [
       "[('android', 0.8546546101570129),\n",
       " ('smartphones', 0.8370323181152344),\n",
       " ('smartphone', 0.822310745716095),\n",
       " ('gmail', 0.7807543873786926),\n",
       " ('apps', 0.7766550183296204),\n",
       " ('foldable', 0.7724974155426025),\n",
       " ('mobile', 0.7696863412857056),\n",
       " ('handset', 0.7621003985404968),\n",
       " ('pixel', 0.7595537304878235),\n",
       " ('dsp', 0.758064329624176)]"
      ]
     },
     "execution_count": 52,
     "metadata": {},
     "output_type": "execute_result"
    }
   ],
   "source": [
    "skip_model= Word2Vec(corpus.title, sg=1, vector_size=50, min_count=2, window=4)\n",
    "skip_model.train(corpus.title, total_examples=len(corpus.title), epochs=20)\n",
    "skip_model.wv.most_similar(\"phone\")"
   ]
  },
  {
   "cell_type": "code",
   "execution_count": 53,
   "metadata": {},
   "outputs": [
    {
     "data": {
      "text/plain": [
       "[('smartphones', 0.8766257762908936),\n",
       " ('smartphone', 0.8583959937095642),\n",
       " ('handset', 0.8362529873847961),\n",
       " ('android', 0.8349930047988892),\n",
       " ('pixel', 0.831344485282898),\n",
       " ('foldable', 0.8272930383682251),\n",
       " ('oneplus', 0.8102177977561951),\n",
       " ('samsung', 0.8083470463752747),\n",
       " ('qualcomm', 0.8072943687438965),\n",
       " ('google', 0.7987962365150452)]"
      ]
     },
     "execution_count": 53,
     "metadata": {},
     "output_type": "execute_result"
    }
   ],
   "source": [
    "skip_model= Word2Vec(corpus.title, sg=1, vector_size=40, min_count=2)\n",
    "skip_model.train(corpus.title, total_examples=len(corpus.title), epochs=20)\n",
    "skip_model.wv.most_similar(\"phone\")"
   ]
  },
  {
   "cell_type": "code",
   "execution_count": 54,
   "metadata": {},
   "outputs": [
    {
     "data": {
      "text/plain": [
       "[('smartphones', 0.9025223255157471),\n",
       " ('android', 0.8986257314682007),\n",
       " ('handset', 0.88899827003479),\n",
       " ('smartphone', 0.8825555443763733),\n",
       " ('pixel', 0.8608438372612),\n",
       " ('dsp', 0.851475179195404),\n",
       " ('snapdragon', 0.8506773710250854),\n",
       " ('samsung', 0.8422503471374512),\n",
       " ('oneplus', 0.8347543478012085),\n",
       " ('vivaldi', 0.8324556350708008)]"
      ]
     },
     "execution_count": 54,
     "metadata": {},
     "output_type": "execute_result"
    }
   ],
   "source": [
    "skip_model= Word2Vec(corpus.title, sg=1, vector_size=30, min_count=2)\n",
    "skip_model.train(corpus.title, total_examples=len(corpus.title), epochs=20)\n",
    "skip_model.wv.most_similar(\"phone\")"
   ]
  },
  {
   "cell_type": "code",
   "execution_count": 55,
   "metadata": {},
   "outputs": [
    {
     "data": {
      "text/plain": [
       "[('smartphones', 0.8883024454116821),\n",
       " ('android', 0.8837844729423523),\n",
       " ('smartphone', 0.8756042122840881),\n",
       " ('snapdragon', 0.8640411496162415),\n",
       " ('qualcomm', 0.8634973764419556),\n",
       " ('flagship', 0.8626512289047241),\n",
       " ('handset', 0.8619552254676819),\n",
       " ('midrange', 0.8567699193954468),\n",
       " ('apps', 0.8505262732505798),\n",
       " ('cheaper', 0.8491857051849365)]"
      ]
     },
     "execution_count": 55,
     "metadata": {},
     "output_type": "execute_result"
    }
   ],
   "source": [
    "skip_model= Word2Vec(corpus.title, sg=1, vector_size=30, min_count=2, alpha=0.005)\n",
    "skip_model.train(corpus.title, total_examples=len(corpus.title), epochs=20)\n",
    "skip_model.wv.most_similar(\"phone\")"
   ]
  },
  {
   "cell_type": "code",
   "execution_count": 56,
   "metadata": {},
   "outputs": [
    {
     "data": {
      "text/plain": [
       "[('android', 0.9400346875190735),\n",
       " ('iphone', 0.9228743314743042),\n",
       " ('oneplus', 0.9104474782943726),\n",
       " ('smartphones', 0.9068314433097839),\n",
       " ('samsung', 0.9065344333648682),\n",
       " ('smartphone', 0.8994105458259583),\n",
       " ('snapdragon', 0.8939518928527832),\n",
       " ('flaw', 0.888489305973053),\n",
       " ('pixel', 0.884287416934967),\n",
       " ('qualcomm', 0.8837185502052307)]"
      ]
     },
     "execution_count": 56,
     "metadata": {},
     "output_type": "execute_result"
    }
   ],
   "source": [
    "skip_model= Word2Vec(corpus.title, sg=1, vector_size=20, min_count=2, alpha=0.005)\n",
    "skip_model.train(corpus.title, total_examples=len(corpus.title), epochs=20)\n",
    "skip_model.wv.most_similar(\"phone\")"
   ]
  },
  {
   "cell_type": "code",
   "execution_count": 57,
   "metadata": {},
   "outputs": [
    {
     "data": {
      "text/plain": [
       "[('iphone', 0.9665110111236572),\n",
       " (\"huawei's\", 0.9591425061225891),\n",
       " ('macbook', 0.9569219946861267),\n",
       " ('affordable', 0.9556488394737244),\n",
       " ('android', 0.9543747305870056),\n",
       " ('internal', 0.9542542099952698),\n",
       " ('cheaper', 0.9541267156600952),\n",
       " ('flaw', 0.9531579613685608),\n",
       " ('mac', 0.9526991248130798),\n",
       " ('introduced', 0.9505051374435425)]"
      ]
     },
     "execution_count": 57,
     "metadata": {},
     "output_type": "execute_result"
    }
   ],
   "source": [
    "skip_model= Word2Vec(corpus.title, sg=1, vector_size=10, min_count=2, alpha=0.005)\n",
    "skip_model.train(corpus.title, total_examples=len(corpus.title), epochs=20)\n",
    "skip_model.wv.most_similar(\"phone\")"
   ]
  },
  {
   "cell_type": "code",
   "execution_count": 58,
   "metadata": {},
   "outputs": [
    {
     "data": {
      "text/plain": [
       "[('flash', 0.9680849313735962),\n",
       " ('flooding', 0.9576914310455322),\n",
       " ('tornado', 0.9506045579910278),\n",
       " ('thunderstorm', 0.9504642486572266),\n",
       " ('heavy', 0.9439990520477295)]"
      ]
     },
     "execution_count": 58,
     "metadata": {},
     "output_type": "execute_result"
    }
   ],
   "source": [
    "skip_model.wv.most_similar(positive=\"rain\",topn=5)"
   ]
  },
  {
   "cell_type": "code",
   "execution_count": 59,
   "metadata": {},
   "outputs": [
    {
     "data": {
      "text/plain": [
       "0.5477683"
      ]
     },
     "execution_count": 59,
     "metadata": {},
     "output_type": "execute_result"
    }
   ],
   "source": [
    "skip_model.wv.similarity('phone','meteor')"
   ]
  },
  {
   "cell_type": "code",
   "execution_count": 60,
   "metadata": {},
   "outputs": [
    {
     "data": {
      "text/plain": [
       "[('android', 0.9390363693237305),\n",
       " ('smartphones', 0.9093863368034363),\n",
       " ('samsung', 0.9052277207374573),\n",
       " ('oneplus', 0.9050357341766357),\n",
       " ('snapdragon', 0.8870840072631836),\n",
       " ('flaw', 0.8840975165367126),\n",
       " ('pixel', 0.8810487985610962),\n",
       " (\"google's\", 0.8802744150161743),\n",
       " ('fitbit', 0.8749974966049194),\n",
       " ('smartphone', 0.8747354745864868)]"
      ]
     },
     "execution_count": 60,
     "metadata": {},
     "output_type": "execute_result"
    }
   ],
   "source": [
    "skip_model= Word2Vec(corpus.title, sg=1, vector_size=20, min_count=2, alpha=0.005)\n",
    "skip_model.train(corpus.title, total_examples=len(corpus.title), epochs=20)\n",
    "skip_model.wv.most_similar(\"phone\")"
   ]
  },
  {
   "cell_type": "code",
   "execution_count": 61,
   "metadata": {},
   "outputs": [
    {
     "data": {
      "text/plain": [
       "[('flooding', 0.9336934089660645),\n",
       " ('flash', 0.9080342054367065),\n",
       " ('thunderstorm', 0.9023416638374329),\n",
       " ('karachi', 0.8830739855766296),\n",
       " ('heavy', 0.8815587759017944)]"
      ]
     },
     "execution_count": 61,
     "metadata": {},
     "output_type": "execute_result"
    }
   ],
   "source": [
    "skip_model.wv.most_similar(positive=\"rain\",topn=5)\n"
   ]
  },
  {
   "cell_type": "code",
   "execution_count": 63,
   "metadata": {},
   "outputs": [
    {
     "data": {
      "text/plain": [
       "0.43500376"
      ]
     },
     "execution_count": 63,
     "metadata": {},
     "output_type": "execute_result"
    }
   ],
   "source": [
    "skip_model.wv.similarity('phone','meteor')"
   ]
  },
  {
   "cell_type": "code",
   "execution_count": 64,
   "metadata": {},
   "outputs": [],
   "source": [
    "skip_model.save(\"skipgram.model\")"
   ]
  },
  {
   "cell_type": "code",
   "execution_count": null,
   "metadata": {},
   "outputs": [],
   "source": []
  }
 ],
 "metadata": {
  "interpreter": {
   "hash": "4ba33acf19d6f8950a82f714c4929bec5c0642f06f1336034ea15f517b72499a"
  },
  "kernelspec": {
   "display_name": "Python 3.8.5 ('learn-env')",
   "language": "python",
   "name": "python3"
  },
  "language_info": {
   "codemirror_mode": {
    "name": "ipython",
    "version": 3
   },
   "file_extension": ".py",
   "mimetype": "text/x-python",
   "name": "python",
   "nbconvert_exporter": "python",
   "pygments_lexer": "ipython3",
   "version": "3.8.5"
  },
  "orig_nbformat": 4
 },
 "nbformat": 4,
 "nbformat_minor": 2
}
