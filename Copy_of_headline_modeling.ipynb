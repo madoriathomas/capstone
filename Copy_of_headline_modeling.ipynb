{
  "cells": [
    {
      "cell_type": "markdown",
      "metadata": {
        "id": "FfsnOUMTZ23S"
      },
      "source": [
        "# News Headline Modeling"
      ]
    },
    {
      "cell_type": "code",
      "execution_count": null,
      "metadata": {
        "id": "_q12vFtVZ23W"
      },
      "outputs": [],
      "source": [
        "import pandas as pd\n",
        "import numpy as np \n",
        "import matplotlib.pyplot as plt\n",
        "%matplotlib inline\n",
        "import seaborn as sns\n",
        "\n",
        "import nltk\n",
        "from nltk.corpus import stopwords, wordnet\n",
        "from imblearn.pipeline import Pipeline as ImPipeline\n",
        "from sklearn.pipeline import Pipeline\n",
        "from sklearn.feature_extraction.text import TfidfVectorizer, CountVectorizer\n",
        "from sklearn.ensemble import RandomForestClassifier\n",
        "from sklearn.naive_bayes import MultinomialNB\n",
        "from sklearn.inspection import permutation_importance\n",
        "from sklearn.model_selection import train_test_split, GridSearchCV\n",
        "from sklearn.metrics import accuracy_score, precision_score, recall_score, plot_confusion_matrix \n",
        "import string\n",
        "import re\n",
        "from sklearn.metrics import ConfusionMatrixDisplay"
      ]
    },
    {
      "cell_type": "code",
      "execution_count": null,
      "metadata": {
        "id": "32F-lUioZ23Y"
      },
      "outputs": [],
      "source": [
        "import warnings\n",
        "warnings.filterwarnings('ignore')"
      ]
    },
    {
      "cell_type": "code",
      "source": [
        "from google.colab import drive\n",
        "drive.mount('/content/drive')"
      ],
      "metadata": {
        "id": "EBIeq4WuagO7",
        "outputId": "6a4c5e1a-fcf9-4de6-8f27-3ef74de409ac",
        "colab": {
          "base_uri": "https://localhost:8080/"
        }
      },
      "execution_count": null,
      "outputs": [
        {
          "output_type": "stream",
          "name": "stdout",
          "text": [
            "Mounted at /content/drive\n"
          ]
        }
      ]
    },
    {
      "cell_type": "code",
      "execution_count": null,
      "metadata": {
        "id": "4L498GH9Z23Y",
        "outputId": "1dbeb136-635e-4c26-91d9-fa352fd202e5",
        "colab": {
          "base_uri": "https://localhost:8080/",
          "height": 206
        }
      },
      "outputs": [
        {
          "output_type": "execute_result",
          "data": {
            "text/html": [
              "\n",
              "  <div id=\"df-b8c500b2-09e9-4963-acc9-55ea67433563\">\n",
              "    <div class=\"colab-df-container\">\n",
              "      <div>\n",
              "<style scoped>\n",
              "    .dataframe tbody tr th:only-of-type {\n",
              "        vertical-align: middle;\n",
              "    }\n",
              "\n",
              "    .dataframe tbody tr th {\n",
              "        vertical-align: top;\n",
              "    }\n",
              "\n",
              "    .dataframe thead th {\n",
              "        text-align: right;\n",
              "    }\n",
              "</style>\n",
              "<table border=\"1\" class=\"dataframe\">\n",
              "  <thead>\n",
              "    <tr style=\"text-align: right;\">\n",
              "      <th></th>\n",
              "      <th>topic</th>\n",
              "      <th>link</th>\n",
              "      <th>domain</th>\n",
              "      <th>published_date</th>\n",
              "      <th>title</th>\n",
              "      <th>lang</th>\n",
              "    </tr>\n",
              "  </thead>\n",
              "  <tbody>\n",
              "    <tr>\n",
              "      <th>0</th>\n",
              "      <td>SCIENCE</td>\n",
              "      <td>https://www.eurekalert.org/pub_releases/2020-0...</td>\n",
              "      <td>eurekalert.org</td>\n",
              "      <td>2020-08-06 13:59:45</td>\n",
              "      <td>A closer look at water-splitting's solar fuel ...</td>\n",
              "      <td>en</td>\n",
              "    </tr>\n",
              "    <tr>\n",
              "      <th>1</th>\n",
              "      <td>SCIENCE</td>\n",
              "      <td>https://www.pulse.ng/news/world/an-irresistibl...</td>\n",
              "      <td>pulse.ng</td>\n",
              "      <td>2020-08-12 15:14:19</td>\n",
              "      <td>An irresistible scent makes locusts swarm, stu...</td>\n",
              "      <td>en</td>\n",
              "    </tr>\n",
              "    <tr>\n",
              "      <th>2</th>\n",
              "      <td>SCIENCE</td>\n",
              "      <td>https://www.express.co.uk/news/science/1322607...</td>\n",
              "      <td>express.co.uk</td>\n",
              "      <td>2020-08-13 21:01:00</td>\n",
              "      <td>Artificial intelligence warning: AI will know ...</td>\n",
              "      <td>en</td>\n",
              "    </tr>\n",
              "    <tr>\n",
              "      <th>3</th>\n",
              "      <td>SCIENCE</td>\n",
              "      <td>https://www.ndtv.com/world-news/glaciers-could...</td>\n",
              "      <td>ndtv.com</td>\n",
              "      <td>2020-08-03 22:18:26</td>\n",
              "      <td>Glaciers Could Have Sculpted Mars Valleys: Study</td>\n",
              "      <td>en</td>\n",
              "    </tr>\n",
              "    <tr>\n",
              "      <th>4</th>\n",
              "      <td>SCIENCE</td>\n",
              "      <td>https://www.thesun.ie/tech/5742187/perseid-met...</td>\n",
              "      <td>thesun.ie</td>\n",
              "      <td>2020-08-12 19:54:36</td>\n",
              "      <td>Perseid meteor shower 2020: What time and how ...</td>\n",
              "      <td>en</td>\n",
              "    </tr>\n",
              "  </tbody>\n",
              "</table>\n",
              "</div>\n",
              "      <button class=\"colab-df-convert\" onclick=\"convertToInteractive('df-b8c500b2-09e9-4963-acc9-55ea67433563')\"\n",
              "              title=\"Convert this dataframe to an interactive table.\"\n",
              "              style=\"display:none;\">\n",
              "        \n",
              "  <svg xmlns=\"http://www.w3.org/2000/svg\" height=\"24px\"viewBox=\"0 0 24 24\"\n",
              "       width=\"24px\">\n",
              "    <path d=\"M0 0h24v24H0V0z\" fill=\"none\"/>\n",
              "    <path d=\"M18.56 5.44l.94 2.06.94-2.06 2.06-.94-2.06-.94-.94-2.06-.94 2.06-2.06.94zm-11 1L8.5 8.5l.94-2.06 2.06-.94-2.06-.94L8.5 2.5l-.94 2.06-2.06.94zm10 10l.94 2.06.94-2.06 2.06-.94-2.06-.94-.94-2.06-.94 2.06-2.06.94z\"/><path d=\"M17.41 7.96l-1.37-1.37c-.4-.4-.92-.59-1.43-.59-.52 0-1.04.2-1.43.59L10.3 9.45l-7.72 7.72c-.78.78-.78 2.05 0 2.83L4 21.41c.39.39.9.59 1.41.59.51 0 1.02-.2 1.41-.59l7.78-7.78 2.81-2.81c.8-.78.8-2.07 0-2.86zM5.41 20L4 18.59l7.72-7.72 1.47 1.35L5.41 20z\"/>\n",
              "  </svg>\n",
              "      </button>\n",
              "      \n",
              "  <style>\n",
              "    .colab-df-container {\n",
              "      display:flex;\n",
              "      flex-wrap:wrap;\n",
              "      gap: 12px;\n",
              "    }\n",
              "\n",
              "    .colab-df-convert {\n",
              "      background-color: #E8F0FE;\n",
              "      border: none;\n",
              "      border-radius: 50%;\n",
              "      cursor: pointer;\n",
              "      display: none;\n",
              "      fill: #1967D2;\n",
              "      height: 32px;\n",
              "      padding: 0 0 0 0;\n",
              "      width: 32px;\n",
              "    }\n",
              "\n",
              "    .colab-df-convert:hover {\n",
              "      background-color: #E2EBFA;\n",
              "      box-shadow: 0px 1px 2px rgba(60, 64, 67, 0.3), 0px 1px 3px 1px rgba(60, 64, 67, 0.15);\n",
              "      fill: #174EA6;\n",
              "    }\n",
              "\n",
              "    [theme=dark] .colab-df-convert {\n",
              "      background-color: #3B4455;\n",
              "      fill: #D2E3FC;\n",
              "    }\n",
              "\n",
              "    [theme=dark] .colab-df-convert:hover {\n",
              "      background-color: #434B5C;\n",
              "      box-shadow: 0px 1px 3px 1px rgba(0, 0, 0, 0.15);\n",
              "      filter: drop-shadow(0px 1px 2px rgba(0, 0, 0, 0.3));\n",
              "      fill: #FFFFFF;\n",
              "    }\n",
              "  </style>\n",
              "\n",
              "      <script>\n",
              "        const buttonEl =\n",
              "          document.querySelector('#df-b8c500b2-09e9-4963-acc9-55ea67433563 button.colab-df-convert');\n",
              "        buttonEl.style.display =\n",
              "          google.colab.kernel.accessAllowed ? 'block' : 'none';\n",
              "\n",
              "        async function convertToInteractive(key) {\n",
              "          const element = document.querySelector('#df-b8c500b2-09e9-4963-acc9-55ea67433563');\n",
              "          const dataTable =\n",
              "            await google.colab.kernel.invokeFunction('convertToInteractive',\n",
              "                                                     [key], {});\n",
              "          if (!dataTable) return;\n",
              "\n",
              "          const docLinkHtml = 'Like what you see? Visit the ' +\n",
              "            '<a target=\"_blank\" href=https://colab.research.google.com/notebooks/data_table.ipynb>data table notebook</a>'\n",
              "            + ' to learn more about interactive tables.';\n",
              "          element.innerHTML = '';\n",
              "          dataTable['output_type'] = 'display_data';\n",
              "          await google.colab.output.renderOutput(dataTable, element);\n",
              "          const docLink = document.createElement('div');\n",
              "          docLink.innerHTML = docLinkHtml;\n",
              "          element.appendChild(docLink);\n",
              "        }\n",
              "      </script>\n",
              "    </div>\n",
              "  </div>\n",
              "  "
            ],
            "text/plain": [
              "     topic  ... lang\n",
              "0  SCIENCE  ...   en\n",
              "1  SCIENCE  ...   en\n",
              "2  SCIENCE  ...   en\n",
              "3  SCIENCE  ...   en\n",
              "4  SCIENCE  ...   en\n",
              "\n",
              "[5 rows x 6 columns]"
            ]
          },
          "metadata": {},
          "execution_count": 5
        }
      ],
      "source": [
        "# corpus = pd.read_csv('data/labeled_newscatcher_dataset.csv', sep=\";\")\n",
        "corpus = pd.read_csv('/content/drive/MyDrive/labeled_newscatcher_dataset.csv', sep=\";\")\n",
        "corpus.head()"
      ]
    },
    {
      "cell_type": "markdown",
      "metadata": {
        "id": "OU7B7WokZ23Z"
      },
      "source": [
        "## Vectorization and Modeling"
      ]
    },
    {
      "cell_type": "code",
      "execution_count": null,
      "metadata": {
        "id": "F_uh6glpZ23a"
      },
      "outputs": [],
      "source": [
        "X = corpus.title\n",
        "y = corpus.topic"
      ]
    },
    {
      "cell_type": "code",
      "execution_count": null,
      "metadata": {
        "id": "GxbH32ubZ23a"
      },
      "outputs": [],
      "source": [
        "# performing a train-test split first\n",
        "X_train, X_test, y_train, y_test = train_test_split(X, y, random_state=549841, test_size=0.35)"
      ]
    },
    {
      "cell_type": "code",
      "source": [
        "nltk.download('stopwords')"
      ],
      "metadata": {
        "id": "dFojVrzXdjE3",
        "outputId": "cf1c8fc7-c1a2-43a0-dfe9-08420a161115",
        "colab": {
          "base_uri": "https://localhost:8080/"
        }
      },
      "execution_count": null,
      "outputs": [
        {
          "output_type": "stream",
          "name": "stdout",
          "text": [
            "[nltk_data] Downloading package stopwords to /root/nltk_data...\n",
            "[nltk_data]   Unzipping corpora/stopwords.zip.\n"
          ]
        },
        {
          "output_type": "execute_result",
          "data": {
            "text/plain": [
              "True"
            ]
          },
          "metadata": {},
          "execution_count": 8
        }
      ]
    },
    {
      "cell_type": "code",
      "execution_count": null,
      "metadata": {
        "id": "UbxdLG2cZ23b"
      },
      "outputs": [],
      "source": [
        "sw = stopwords.words('english')"
      ]
    },
    {
      "cell_type": "markdown",
      "metadata": {
        "id": "ium_PZJqZ23c"
      },
      "source": [
        "### CountVectorizer"
      ]
    },
    {
      "cell_type": "code",
      "execution_count": null,
      "metadata": {
        "id": "79qAesjSZ23d",
        "outputId": "b0a6cd0b-5862-495c-a8f2-d7963c676166"
      },
      "outputs": [
        {
          "data": {
            "text/plain": [
              "GridSearchCV(cv=5, error_score='raise',\n",
              "             estimator=Pipeline(steps=[('vectorize',\n",
              "                                        CountVectorizer(stop_words=['i', 'me',\n",
              "                                                                    'my',\n",
              "                                                                    'myself',\n",
              "                                                                    'we', 'our',\n",
              "                                                                    'ours',\n",
              "                                                                    'ourselves',\n",
              "                                                                    'you',\n",
              "                                                                    \"you're\",\n",
              "                                                                    \"you've\",\n",
              "                                                                    \"you'll\",\n",
              "                                                                    \"you'd\",\n",
              "                                                                    'your',\n",
              "                                                                    'yours',\n",
              "                                                                    'yourself',\n",
              "                                                                    'yourselves',\n",
              "                                                                    'he', 'him',\n",
              "                                                                    'his',\n",
              "                                                                    'himself',\n",
              "                                                                    'she',\n",
              "                                                                    \"she's\",\n",
              "                                                                    'her',\n",
              "                                                                    'hers',\n",
              "                                                                    'herself',\n",
              "                                                                    'it',\n",
              "                                                                    \"it's\",\n",
              "                                                                    'its',\n",
              "                                                                    'itself', ...])),\n",
              "                                       ('mnb', MultinomialNB())]),\n",
              "             param_grid={'mnb__alpha': array([0.  , 0.25, 0.5 , 0.75, 1.  ])})"
            ]
          },
          "execution_count": 12,
          "metadata": {},
          "output_type": "execute_result"
        }
      ],
      "source": [
        "count_mnb = Pipeline(steps=([(\"vectorize\", CountVectorizer(stop_words= sw)), \n",
        "                            (\"mnb\", MultinomialNB())]))\n",
        "\n",
        "parameters = {'mnb__alpha': np.linspace(0, 1.0, 5)}\n",
        "\n",
        "count_gs = GridSearchCV(estimator= count_mnb,\n",
        "                 param_grid= parameters,\n",
        "                 cv=5, error_score= 'raise')\n",
        "\n",
        "count_gs.fit(X_train, y_train)"
      ]
    },
    {
      "cell_type": "code",
      "execution_count": null,
      "metadata": {
        "id": "WFQCXsFcZ23e",
        "outputId": "7f1647ba-8fcc-405b-b81c-5c6e5c211197"
      },
      "outputs": [
        {
          "name": "stdout",
          "output_type": "stream",
          "text": [
            "This is the training score: 0.8780108340523033\n",
            "This is the testing score: 0.8008720548448951\n",
            "Best parameters: {'mnb__alpha': 0.25}\n"
          ]
        }
      ],
      "source": [
        "print(f'This is the training score: {count_gs.score(X_train, y_train)}')\n",
        "print(f'This is the testing score: {count_gs.score(X_test, y_test)}')\n",
        "print(f'Best parameters: {count_gs.best_params_}')"
      ]
    },
    {
      "cell_type": "code",
      "execution_count": null,
      "metadata": {
        "id": "y0ul5G4QZ23e",
        "outputId": "9d56719b-ef3a-4544-d72b-26aa22deba09",
        "colab": {
          "base_uri": "https://localhost:8080/"
        }
      },
      "outputs": [
        {
          "output_type": "execute_result",
          "data": {
            "text/plain": [
              "GridSearchCV(cv=5, error_score='raise',\n",
              "             estimator=Pipeline(steps=[('vectorize',\n",
              "                                        CountVectorizer(stop_words=['i', 'me',\n",
              "                                                                    'my',\n",
              "                                                                    'myself',\n",
              "                                                                    'we', 'our',\n",
              "                                                                    'ours',\n",
              "                                                                    'ourselves',\n",
              "                                                                    'you',\n",
              "                                                                    \"you're\",\n",
              "                                                                    \"you've\",\n",
              "                                                                    \"you'll\",\n",
              "                                                                    \"you'd\",\n",
              "                                                                    'your',\n",
              "                                                                    'yours',\n",
              "                                                                    'yourself',\n",
              "                                                                    'yourselves',\n",
              "                                                                    'he', 'him',\n",
              "                                                                    'his',\n",
              "                                                                    'himself',\n",
              "                                                                    'she',\n",
              "                                                                    \"she's\",\n",
              "                                                                    'her',\n",
              "                                                                    'hers',\n",
              "                                                                    'herself',\n",
              "                                                                    'it',\n",
              "                                                                    \"it's\",\n",
              "                                                                    'its',\n",
              "                                                                    'itself', ...])),\n",
              "                                       ('rf', RandomForestClassifier())]),\n",
              "             param_grid={'rf__class_weight': ['balanced',\n",
              "                                              'balanced_subsample']})"
            ]
          },
          "metadata": {},
          "execution_count": 11
        }
      ],
      "source": [
        "count_forest = Pipeline(steps=([(\"vectorize\", CountVectorizer(stop_words= sw)), \n",
        "                                (\"rf\", RandomForestClassifier())]))\n",
        "\n",
        "parameters = {'rf__class_weight': ['balanced', 'balanced_subsample']}\n",
        "\n",
        "count_rf = GridSearchCV(estimator= count_forest,\n",
        "                 param_grid= parameters,\n",
        "                 cv=5, error_score= 'raise')\n",
        "\n",
        "count_rf.fit(X_train, y_train)"
      ]
    },
    {
      "cell_type": "code",
      "execution_count": null,
      "metadata": {
        "id": "PzvjmSVzZ23f",
        "outputId": "db6f29eb-a9a7-4a55-f992-f7a52f669908",
        "colab": {
          "base_uri": "https://localhost:8080/"
        }
      },
      "outputs": [
        {
          "output_type": "stream",
          "name": "stdout",
          "text": [
            "This is the training score: 0.995926622632703\n",
            "This is the testing score: 0.7526726379659058\n",
            "Best parameters: {'rf__class_weight': 'balanced'}\n"
          ]
        }
      ],
      "source": [
        "print(f'This is the training score: {count_rf.score(X_train, y_train)}')\n",
        "print(f'This is the testing score: {count_rf.score(X_test, y_test)}')\n",
        "print(f'Best parameters: {count_rf.best_params_}')"
      ]
    },
    {
      "cell_type": "code",
      "source": [
        "count_forest = Pipeline(steps=([(\"vectorize\", CountVectorizer(stop_words= sw)), \n",
        "                                (\"rf\", RandomForestClassifier(class_weight='balanced'))]))\n",
        "\n",
        "parameters = {'rf__min_samples_leaf': [2, 10, 30, 100]}\n",
        "\n",
        "count_rf2 = GridSearchCV(estimator= count_forest,\n",
        "                 param_grid= parameters,\n",
        "                 cv=5, error_score= 'raise')\n",
        "\n",
        "count_rf2.fit(X_train, y_train)"
      ],
      "metadata": {
        "colab": {
          "base_uri": "https://localhost:8080/"
        },
        "id": "rOg9bt-fzgx_",
        "outputId": "36a3d7d3-1f53-446d-dd1e-d8b5176981dd"
      },
      "execution_count": null,
      "outputs": [
        {
          "output_type": "execute_result",
          "data": {
            "text/plain": [
              "GridSearchCV(cv=5, error_score='raise',\n",
              "             estimator=Pipeline(steps=[('vectorize',\n",
              "                                        CountVectorizer(stop_words=['i', 'me',\n",
              "                                                                    'my',\n",
              "                                                                    'myself',\n",
              "                                                                    'we', 'our',\n",
              "                                                                    'ours',\n",
              "                                                                    'ourselves',\n",
              "                                                                    'you',\n",
              "                                                                    \"you're\",\n",
              "                                                                    \"you've\",\n",
              "                                                                    \"you'll\",\n",
              "                                                                    \"you'd\",\n",
              "                                                                    'your',\n",
              "                                                                    'yours',\n",
              "                                                                    'yourself',\n",
              "                                                                    'yourselves',\n",
              "                                                                    'he', 'him',\n",
              "                                                                    'his',\n",
              "                                                                    'himself',\n",
              "                                                                    'she',\n",
              "                                                                    \"she's\",\n",
              "                                                                    'her',\n",
              "                                                                    'hers',\n",
              "                                                                    'herself',\n",
              "                                                                    'it',\n",
              "                                                                    \"it's\",\n",
              "                                                                    'its',\n",
              "                                                                    'itself', ...])),\n",
              "                                       ('rf',\n",
              "                                        RandomForestClassifier(class_weight='balanced'))]),\n",
              "             param_grid={'rf__min_samples_leaf': [2, 10, 30, 100]})"
            ]
          },
          "metadata": {},
          "execution_count": 10
        }
      ]
    },
    {
      "cell_type": "code",
      "source": [
        "print(f'This is the training score: {count_rf2.score(X_train, y_train)}')\n",
        "print(f'This is the testing score: {count_rf2.score(X_test, y_test)}')\n",
        "print(f'Best parameters: {count_rf2.best_params_}')"
      ],
      "metadata": {
        "colab": {
          "base_uri": "https://localhost:8080/"
        },
        "id": "IXZ45jMazg0_",
        "outputId": "506392a9-de89-4ebb-f772-4af04b13074b"
      },
      "execution_count": null,
      "outputs": [
        {
          "output_type": "stream",
          "name": "stdout",
          "text": [
            "This is the training score: 0.7704199256042884\n",
            "This is the testing score: 0.7135615035066061\n",
            "Best parameters: {'rf__min_samples_leaf': 2}\n"
          ]
        }
      ]
    },
    {
      "cell_type": "code",
      "source": [
        "count_forest = Pipeline(steps=([(\"vectorize\", CountVectorizer(stop_words= sw)), \n",
        "                                (\"rf\", RandomForestClassifier(class_weight='balanced', min_samples_leaf=2))]))\n",
        "\n",
        "parameters = {'rf__min_samples_split': [2, 10, 20]}\n",
        "\n",
        "count_rf3 = GridSearchCV(estimator= count_forest,\n",
        "                 param_grid= parameters,\n",
        "                 cv=5, error_score= 'raise')\n",
        "\n",
        "count_rf3.fit(X_train, y_train)"
      ],
      "metadata": {
        "id": "qi_3uIaZFoS7",
        "colab": {
          "base_uri": "https://localhost:8080/"
        },
        "outputId": "d2691976-4522-4f2f-a30f-a35e3989f457"
      },
      "execution_count": null,
      "outputs": [
        {
          "output_type": "execute_result",
          "data": {
            "text/plain": [
              "GridSearchCV(cv=5, error_score='raise',\n",
              "             estimator=Pipeline(steps=[('vectorize',\n",
              "                                        CountVectorizer(stop_words=['i', 'me',\n",
              "                                                                    'my',\n",
              "                                                                    'myself',\n",
              "                                                                    'we', 'our',\n",
              "                                                                    'ours',\n",
              "                                                                    'ourselves',\n",
              "                                                                    'you',\n",
              "                                                                    \"you're\",\n",
              "                                                                    \"you've\",\n",
              "                                                                    \"you'll\",\n",
              "                                                                    \"you'd\",\n",
              "                                                                    'your',\n",
              "                                                                    'yours',\n",
              "                                                                    'yourself',\n",
              "                                                                    'yourselves',\n",
              "                                                                    'he', 'him',\n",
              "                                                                    'his',\n",
              "                                                                    'himself',\n",
              "                                                                    'she',\n",
              "                                                                    \"she's\",\n",
              "                                                                    'her',\n",
              "                                                                    'hers',\n",
              "                                                                    'herself',\n",
              "                                                                    'it',\n",
              "                                                                    \"it's\",\n",
              "                                                                    'its',\n",
              "                                                                    'itself', ...])),\n",
              "                                       ('rf',\n",
              "                                        RandomForestClassifier(class_weight='balanced',\n",
              "                                                               min_samples_leaf=2))]),\n",
              "             param_grid={'rf__min_samples_split': [2, 10, 20]})"
            ]
          },
          "metadata": {},
          "execution_count": 12
        }
      ]
    },
    {
      "cell_type": "code",
      "source": [
        "print(f'This is the training score: {count_rf3.score(X_train, y_train)}')\n",
        "print(f'This is the testing score: {count_rf3.score(X_test, y_test)}')\n",
        "print(f'Best parameters: {count_rf3.best_params_}')"
      ],
      "metadata": {
        "id": "7KCLpGo7FoWb",
        "colab": {
          "base_uri": "https://localhost:8080/"
        },
        "outputId": "20adea40-e593-4fa1-acba-dbf7a24ef27d"
      },
      "execution_count": null,
      "outputs": [
        {
          "output_type": "stream",
          "name": "stdout",
          "text": [
            "This is the training score: 0.7699956154618616\n",
            "This is the testing score: 0.713141236111476\n",
            "Best parameters: {'rf__min_samples_split': 2}\n"
          ]
        }
      ]
    },
    {
      "cell_type": "code",
      "source": [
        "count_forest = Pipeline(steps=([(\"vectorize\", CountVectorizer(stop_words= sw)), \n",
        "                                (\"rf\", RandomForestClassifier(class_weight='balanced', min_samples_leaf=2))]))\n",
        "\n",
        "parameters = {'rf__n_estimators': [50, 100, 150]}\n",
        "\n",
        "count_rf4 = GridSearchCV(estimator= count_forest,\n",
        "                 param_grid= parameters,\n",
        "                 cv=5, error_score= 'raise')\n",
        "\n",
        "count_rf4.fit(X_train, y_train)"
      ],
      "metadata": {
        "colab": {
          "base_uri": "https://localhost:8080/"
        },
        "id": "dDfeOnOHuLlN",
        "outputId": "bd7af45e-556c-42b2-a726-dbf983910ea7"
      },
      "execution_count": null,
      "outputs": [
        {
          "output_type": "execute_result",
          "data": {
            "text/plain": [
              "GridSearchCV(cv=5, error_score='raise',\n",
              "             estimator=Pipeline(steps=[('vectorize',\n",
              "                                        CountVectorizer(stop_words=['i', 'me',\n",
              "                                                                    'my',\n",
              "                                                                    'myself',\n",
              "                                                                    'we', 'our',\n",
              "                                                                    'ours',\n",
              "                                                                    'ourselves',\n",
              "                                                                    'you',\n",
              "                                                                    \"you're\",\n",
              "                                                                    \"you've\",\n",
              "                                                                    \"you'll\",\n",
              "                                                                    \"you'd\",\n",
              "                                                                    'your',\n",
              "                                                                    'yours',\n",
              "                                                                    'yourself',\n",
              "                                                                    'yourselves',\n",
              "                                                                    'he', 'him',\n",
              "                                                                    'his',\n",
              "                                                                    'himself',\n",
              "                                                                    'she',\n",
              "                                                                    \"she's\",\n",
              "                                                                    'her',\n",
              "                                                                    'hers',\n",
              "                                                                    'herself',\n",
              "                                                                    'it',\n",
              "                                                                    \"it's\",\n",
              "                                                                    'its',\n",
              "                                                                    'itself', ...])),\n",
              "                                       ('rf',\n",
              "                                        RandomForestClassifier(class_weight='balanced',\n",
              "                                                               min_samples_leaf=2))]),\n",
              "             param_grid={'rf__n_estimators': [50, 100, 150]})"
            ]
          },
          "metadata": {},
          "execution_count": 20
        }
      ]
    },
    {
      "cell_type": "code",
      "source": [
        "print(f'This is the training score: {count_rf4.score(X_train, y_train)}')\n",
        "print(f'This is the testing score: {count_rf4.score(X_test, y_test)}')\n",
        "print(f'Best parameters: {count_rf4.best_params_}')"
      ],
      "metadata": {
        "colab": {
          "base_uri": "https://localhost:8080/"
        },
        "id": "C8Q-72VQuLoi",
        "outputId": "0285a17b-3eb3-43d1-ab60-bd66d567ebf7"
      },
      "execution_count": null,
      "outputs": [
        {
          "output_type": "stream",
          "name": "stdout",
          "text": [
            "This is the training score: 0.7699248971047905\n",
            "This is the testing score: 0.713141236111476\n",
            "Best parameters: {'rf__n_estimators': 150}\n"
          ]
        }
      ]
    },
    {
      "cell_type": "markdown",
      "metadata": {
        "id": "H-Y5wz05Z23f"
      },
      "source": [
        "### TF-IDF Vectorizer"
      ]
    },
    {
      "cell_type": "code",
      "execution_count": null,
      "metadata": {
        "id": "mQw2zzD5Z23f",
        "outputId": "3b72c753-a0fe-4010-9da1-d18e2f76ccaf"
      },
      "outputs": [
        {
          "data": {
            "text/plain": [
              "GridSearchCV(cv=5, error_score='raise',\n",
              "             estimator=Pipeline(steps=[('vectorize',\n",
              "                                        TfidfVectorizer(stop_words=['i', 'me',\n",
              "                                                                    'my',\n",
              "                                                                    'myself',\n",
              "                                                                    'we', 'our',\n",
              "                                                                    'ours',\n",
              "                                                                    'ourselves',\n",
              "                                                                    'you',\n",
              "                                                                    \"you're\",\n",
              "                                                                    \"you've\",\n",
              "                                                                    \"you'll\",\n",
              "                                                                    \"you'd\",\n",
              "                                                                    'your',\n",
              "                                                                    'yours',\n",
              "                                                                    'yourself',\n",
              "                                                                    'yourselves',\n",
              "                                                                    'he', 'him',\n",
              "                                                                    'his',\n",
              "                                                                    'himself',\n",
              "                                                                    'she',\n",
              "                                                                    \"she's\",\n",
              "                                                                    'her',\n",
              "                                                                    'hers',\n",
              "                                                                    'herself',\n",
              "                                                                    'it',\n",
              "                                                                    \"it's\",\n",
              "                                                                    'its',\n",
              "                                                                    'itself', ...])),\n",
              "                                       ('mnb', MultinomialNB())]),\n",
              "             param_grid={'mnb__alpha': array([0.  , 0.25, 0.5 , 0.75, 1.  ])})"
            ]
          },
          "execution_count": 17,
          "metadata": {},
          "output_type": "execute_result"
        }
      ],
      "source": [
        "tfidf_mnb = Pipeline(steps=([(\"vectorize\", TfidfVectorizer(stop_words= sw)),\n",
        "                            (\"mnb\", MultinomialNB())]))\n",
        "\n",
        "parameters = {'mnb__alpha': np.linspace(0, 1.0, 5)}\n",
        "\n",
        "tfidf_gs = GridSearchCV(estimator= tfidf_mnb,\n",
        "                 param_grid= parameters,\n",
        "                 cv=5, error_score= 'raise')\n",
        "\n",
        "tfidf_gs.fit(X_train, y_train)"
      ]
    },
    {
      "cell_type": "code",
      "execution_count": null,
      "metadata": {
        "id": "rM4cKiSGZ23g",
        "outputId": "0f17987a-d012-40fa-c83d-378477aae154"
      },
      "outputs": [
        {
          "name": "stdout",
          "output_type": "stream",
          "text": [
            "This is the training score: 0.8851675317879015\n",
            "This is the testing score: 0.8019752567571117\n",
            "Best parameters: {'mnb__alpha': 0.25}\n"
          ]
        }
      ],
      "source": [
        "print(f'This is the training score: {tfidf_gs.score(X_train, y_train)}')\n",
        "print(f'This is the testing score: {tfidf_gs.score(X_test, y_test)}')\n",
        "print(f'Best parameters: {tfidf_gs.best_params_}')"
      ]
    },
    {
      "cell_type": "code",
      "execution_count": null,
      "metadata": {
        "id": "OJnSxysqZ23g",
        "colab": {
          "base_uri": "https://localhost:8080/"
        },
        "outputId": "9c82df31-de44-4a4f-9caf-c2503f6f51c9"
      },
      "outputs": [
        {
          "output_type": "execute_result",
          "data": {
            "text/plain": [
              "GridSearchCV(cv=5, error_score='raise',\n",
              "             estimator=Pipeline(steps=[('vectorize',\n",
              "                                        TfidfVectorizer(stop_words=['i', 'me',\n",
              "                                                                    'my',\n",
              "                                                                    'myself',\n",
              "                                                                    'we', 'our',\n",
              "                                                                    'ours',\n",
              "                                                                    'ourselves',\n",
              "                                                                    'you',\n",
              "                                                                    \"you're\",\n",
              "                                                                    \"you've\",\n",
              "                                                                    \"you'll\",\n",
              "                                                                    \"you'd\",\n",
              "                                                                    'your',\n",
              "                                                                    'yours',\n",
              "                                                                    'yourself',\n",
              "                                                                    'yourselves',\n",
              "                                                                    'he', 'him',\n",
              "                                                                    'his',\n",
              "                                                                    'himself',\n",
              "                                                                    'she',\n",
              "                                                                    \"she's\",\n",
              "                                                                    'her',\n",
              "                                                                    'hers',\n",
              "                                                                    'herself',\n",
              "                                                                    'it',\n",
              "                                                                    \"it's\",\n",
              "                                                                    'its',\n",
              "                                                                    'itself', ...])),\n",
              "                                       ('rf',\n",
              "                                        RandomForestClassifier(class_weight='balanced'))]),\n",
              "             param_grid={'rf__min_samples_leaf': [2, 3, 4, 5]})"
            ]
          },
          "metadata": {},
          "execution_count": 23
        }
      ],
      "source": [
        "tfidf_forest = Pipeline(steps=([(\"vectorize\", TfidfVectorizer(stop_words= sw)), \n",
        "                                (\"rf\", RandomForestClassifier(class_weight='balanced'))]))\n",
        "\n",
        "parameters = {'rf__min_samples_leaf': [2, 3, 4, 5]}\n",
        "\n",
        "tfidf_rf = GridSearchCV(estimator= tfidf_forest,\n",
        "                 param_grid= parameters,\n",
        "                 cv=5, error_score= 'raise')\n",
        "\n",
        "tfidf_rf.fit(X_train, y_train)"
      ]
    },
    {
      "cell_type": "code",
      "execution_count": null,
      "metadata": {
        "id": "W4FNYQ73Z23h",
        "colab": {
          "base_uri": "https://localhost:8080/"
        },
        "outputId": "0b47edf4-0e8b-4f6e-cd7f-1e8d0df6134c"
      },
      "outputs": [
        {
          "output_type": "stream",
          "name": "stdout",
          "text": [
            "This is the training score: 0.7882409515862128\n",
            "This is the testing score: 0.7120380341992593\n",
            "Best parameters: {'rf__min_samples_leaf': 2}\n"
          ]
        }
      ],
      "source": [
        "print(f'This is the training score: {tfidf_rf.score(X_train, y_train)}')\n",
        "print(f'This is the testing score: {tfidf_rf.score(X_test, y_test)}')\n",
        "print(f'Best parameters: {tfidf_rf.best_params_}')"
      ]
    },
    {
      "cell_type": "code",
      "execution_count": null,
      "metadata": {
        "id": "EYqki2F3Z23h",
        "colab": {
          "base_uri": "https://localhost:8080/"
        },
        "outputId": "317782ea-a7b1-43b2-ba4d-f09cbcc5ed68"
      },
      "outputs": [
        {
          "output_type": "execute_result",
          "data": {
            "text/plain": [
              "GridSearchCV(cv=5, error_score='raise',\n",
              "             estimator=Pipeline(steps=[('vectorize',\n",
              "                                        TfidfVectorizer(stop_words=['i', 'me',\n",
              "                                                                    'my',\n",
              "                                                                    'myself',\n",
              "                                                                    'we', 'our',\n",
              "                                                                    'ours',\n",
              "                                                                    'ourselves',\n",
              "                                                                    'you',\n",
              "                                                                    \"you're\",\n",
              "                                                                    \"you've\",\n",
              "                                                                    \"you'll\",\n",
              "                                                                    \"you'd\",\n",
              "                                                                    'your',\n",
              "                                                                    'yours',\n",
              "                                                                    'yourself',\n",
              "                                                                    'yourselves',\n",
              "                                                                    'he', 'him',\n",
              "                                                                    'his',\n",
              "                                                                    'himself',\n",
              "                                                                    'she',\n",
              "                                                                    \"she's\",\n",
              "                                                                    'her',\n",
              "                                                                    'hers',\n",
              "                                                                    'herself',\n",
              "                                                                    'it',\n",
              "                                                                    \"it's\",\n",
              "                                                                    'its',\n",
              "                                                                    'itself', ...])),\n",
              "                                       ('rf',\n",
              "                                        RandomForestClassifier(class_weight='balanced',\n",
              "                                                               min_samples_leaf=2))]),\n",
              "             param_grid={'rf__min_samples_split': [2, 5, 10]})"
            ]
          },
          "metadata": {},
          "execution_count": 25
        }
      ],
      "source": [
        "tfidf_forest = Pipeline(steps=([(\"vectorize\", TfidfVectorizer(stop_words= sw)), \n",
        "                                (\"rf\", RandomForestClassifier(class_weight='balanced', min_samples_leaf=2))]))\n",
        "\n",
        "parameters = {'rf__min_samples_split': [2, 5, 10]}\n",
        "\n",
        "tfidf_rf2 = GridSearchCV(estimator= tfidf_forest,\n",
        "                 param_grid= parameters,\n",
        "                 cv=5, error_score= 'raise')\n",
        "\n",
        "tfidf_rf2.fit(X_train, y_train)"
      ]
    },
    {
      "cell_type": "code",
      "execution_count": null,
      "metadata": {
        "id": "ifQBMuZHZ23h",
        "colab": {
          "base_uri": "https://localhost:8080/"
        },
        "outputId": "3b39168d-f5c4-41a4-a7f5-fe8186c3cea7"
      },
      "outputs": [
        {
          "output_type": "stream",
          "name": "stdout",
          "text": [
            "This is the training score: 0.7880570838578278\n",
            "This is the testing score: 0.7129311024139109\n",
            "Best parameters: {'rf__min_samples_split': 5}\n"
          ]
        }
      ],
      "source": [
        "print(f'This is the training score: {tfidf_rf2.score(X_train, y_train)}')\n",
        "print(f'This is the testing score: {tfidf_rf2.score(X_test, y_test)}')\n",
        "print(f'Best parameters: {tfidf_rf2.best_params_}')"
      ]
    },
    {
      "cell_type": "code",
      "source": [
        "tfidf_forest = Pipeline(steps=([(\"vectorize\", TfidfVectorizer(stop_words= sw)), \n",
        "                                (\"rf\", RandomForestClassifier(class_weight='balanced', min_samples_leaf=2,\n",
        "                                                              min_samples_split=5))]))\n",
        "\n",
        "parameters = {'rf__n_estimators': [350, 400, 450]}\n",
        "\n",
        "tfidf_rf3 = GridSearchCV(estimator= tfidf_forest,\n",
        "                 param_grid= parameters,\n",
        "                 cv=5, error_score= 'raise')\n",
        "\n",
        "tfidf_rf3.fit(X_train, y_train)"
      ],
      "metadata": {
        "colab": {
          "base_uri": "https://localhost:8080/"
        },
        "id": "jxD61xpLPnWD",
        "outputId": "685b0e76-c459-406d-f9b0-b8018e860bba"
      },
      "execution_count": null,
      "outputs": [
        {
          "output_type": "execute_result",
          "data": {
            "text/plain": [
              "GridSearchCV(cv=5, error_score='raise',\n",
              "             estimator=Pipeline(steps=[('vectorize',\n",
              "                                        TfidfVectorizer(stop_words=['i', 'me',\n",
              "                                                                    'my',\n",
              "                                                                    'myself',\n",
              "                                                                    'we', 'our',\n",
              "                                                                    'ours',\n",
              "                                                                    'ourselves',\n",
              "                                                                    'you',\n",
              "                                                                    \"you're\",\n",
              "                                                                    \"you've\",\n",
              "                                                                    \"you'll\",\n",
              "                                                                    \"you'd\",\n",
              "                                                                    'your',\n",
              "                                                                    'yours',\n",
              "                                                                    'yourself',\n",
              "                                                                    'yourselves',\n",
              "                                                                    'he', 'him',\n",
              "                                                                    'his',\n",
              "                                                                    'himself',\n",
              "                                                                    'she',\n",
              "                                                                    \"she's\",\n",
              "                                                                    'her',\n",
              "                                                                    'hers',\n",
              "                                                                    'herself',\n",
              "                                                                    'it',\n",
              "                                                                    \"it's\",\n",
              "                                                                    'its',\n",
              "                                                                    'itself', ...])),\n",
              "                                       ('rf',\n",
              "                                        RandomForestClassifier(class_weight='balanced',\n",
              "                                                               min_samples_leaf=2,\n",
              "                                                               min_samples_split=5))]),\n",
              "             param_grid={'rf__n_estimators': [350, 400, 450]})"
            ]
          },
          "metadata": {},
          "execution_count": 33
        }
      ]
    },
    {
      "cell_type": "code",
      "source": [
        "print(f'This is the training score: {tfidf_rf3.score(X_train, y_train)}')\n",
        "print(f'This is the testing score: {tfidf_rf3.score(X_test, y_test)}')\n",
        "print(f'Best parameters: {tfidf_rf3.best_params_}')"
      ],
      "metadata": {
        "colab": {
          "base_uri": "https://localhost:8080/"
        },
        "id": "beTKL5vCPnYS",
        "outputId": "f4ec80a5-3f65-48a0-b626-4de1de67c673"
      },
      "execution_count": null,
      "outputs": [
        {
          "output_type": "stream",
          "name": "stdout",
          "text": [
            "This is the training score: 0.7901927782413759\n",
            "This is the testing score: 0.7135352367944104\n",
            "Best parameters: {'rf__n_estimators': 350}\n"
          ]
        }
      ]
    },
    {
      "cell_type": "code",
      "source": [
        "tfidf_forest = Pipeline(steps=([(\"vectorize\", TfidfVectorizer(stop_words= sw)), \n",
        "                                (\"rf\", RandomForestClassifier(class_weight='balanced', min_samples_leaf=2,\n",
        "                                                              min_samples_split=5, n_estimators= 350))]))\n",
        "\n",
        "parameters = {'rf__max_depth': [400, 450, 500]}\n",
        "\n",
        "tfidf_rf4 = GridSearchCV(estimator= tfidf_forest,\n",
        "                 param_grid= parameters,\n",
        "                 cv=5, error_score= 'raise')\n",
        "\n",
        "tfidf_rf4.fit(X_train, y_train)"
      ],
      "metadata": {
        "colab": {
          "base_uri": "https://localhost:8080/"
        },
        "outputId": "0a607ea5-10b8-49e1-9a49-a92ecd006e65",
        "id": "-JlJMAGbx_4g"
      },
      "execution_count": null,
      "outputs": [
        {
          "output_type": "execute_result",
          "data": {
            "text/plain": [
              "GridSearchCV(cv=5, error_score='raise',\n",
              "             estimator=Pipeline(steps=[('vectorize',\n",
              "                                        TfidfVectorizer(stop_words=['i', 'me',\n",
              "                                                                    'my',\n",
              "                                                                    'myself',\n",
              "                                                                    'we', 'our',\n",
              "                                                                    'ours',\n",
              "                                                                    'ourselves',\n",
              "                                                                    'you',\n",
              "                                                                    \"you're\",\n",
              "                                                                    \"you've\",\n",
              "                                                                    \"you'll\",\n",
              "                                                                    \"you'd\",\n",
              "                                                                    'your',\n",
              "                                                                    'yours',\n",
              "                                                                    'yourself',\n",
              "                                                                    'yourselves',\n",
              "                                                                    'he', 'him',\n",
              "                                                                    'his',\n",
              "                                                                    'himself',\n",
              "                                                                    'she',\n",
              "                                                                    \"she's\",\n",
              "                                                                    'her',\n",
              "                                                                    'hers',\n",
              "                                                                    'herself',\n",
              "                                                                    'it',\n",
              "                                                                    \"it's\",\n",
              "                                                                    'its',\n",
              "                                                                    'itself', ...])),\n",
              "                                       ('rf',\n",
              "                                        RandomForestClassifier(class_weight='balanced',\n",
              "                                                               min_samples_leaf=2,\n",
              "                                                               min_samples_split=5,\n",
              "                                                               n_estimators=350))]),\n",
              "             param_grid={'rf__max_depth': [400, 450, 500]})"
            ]
          },
          "metadata": {},
          "execution_count": 47
        }
      ]
    },
    {
      "cell_type": "code",
      "source": [
        "print(f'This is the training score: {tfidf_rf4.score(X_train, y_train)}')\n",
        "print(f'This is the testing score: {tfidf_rf4.score(X_test, y_test)}')\n",
        "print(f'Best parameters: {tfidf_rf4.best_params_}')"
      ],
      "metadata": {
        "colab": {
          "base_uri": "https://localhost:8080/"
        },
        "outputId": "eb502ffb-5ff4-4f07-da67-4d62ebdc54ed",
        "id": "N_sJubySyNed"
      },
      "execution_count": null,
      "outputs": [
        {
          "output_type": "stream",
          "name": "stdout",
          "text": [
            "This is the training score: 0.7208039262831846\n",
            "This is the testing score: 0.6876887919939061\n",
            "Best parameters: {'rf__max_depth': 500}\n"
          ]
        }
      ]
    }
  ],
  "metadata": {
    "interpreter": {
      "hash": "4ba33acf19d6f8950a82f714c4929bec5c0642f06f1336034ea15f517b72499a"
    },
    "kernelspec": {
      "display_name": "Python 3.8.5 ('learn-env')",
      "language": "python",
      "name": "python3"
    },
    "language_info": {
      "codemirror_mode": {
        "name": "ipython",
        "version": 3
      },
      "file_extension": ".py",
      "mimetype": "text/x-python",
      "name": "python",
      "nbconvert_exporter": "python",
      "pygments_lexer": "ipython3",
      "version": "3.8.5"
    },
    "orig_nbformat": 4,
    "colab": {
      "name": "Copy of headline_modeling.ipynb",
      "provenance": [],
      "collapsed_sections": []
    }
  },
  "nbformat": 4,
  "nbformat_minor": 0
}